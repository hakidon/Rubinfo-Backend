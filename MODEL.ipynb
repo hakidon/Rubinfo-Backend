{
  "cells": [
    {
      "cell_type": "code",
      "execution_count": 1,
      "metadata": {
        "id": "Jo1mtS92-BG2"
      },
      "outputs": [
        {
          "ename": "",
          "evalue": "",
          "output_type": "error",
          "traceback": [
            "\u001b[1;31mCanceled future for execute_request message before replies were done"
          ]
        },
        {
          "ename": "",
          "evalue": "",
          "output_type": "error",
          "traceback": [
            "\u001b[1;31mThe Kernel crashed while executing code in the the current cell or a previous cell. Please review the code in the cell(s) to identify a possible cause of the failure. Click <a href='https://aka.ms/vscodeJupyterKernelCrash'>here</a> for more info. View Jupyter <a href='command:jupyter.viewOutput'>log</a> for further details."
          ]
        }
      ],
      "source": [
        "import pandas as pd\n",
        "import numpy as np\n",
        "import keras\n",
        "import tensorflow as tf\n",
        "from keras.preprocessing.sequence import TimeseriesGenerator\n",
        "import plotly.graph_objs as go\n",
        "import io"
      ]
    },
    {
      "cell_type": "code",
      "execution_count": null,
      "metadata": {
        "colab": {
          "base_uri": "https://localhost:8080/",
          "height": 74
        },
        "id": "esqWayeQ-M6d",
        "outputId": "6119bbac-340b-4202-bc66-cf01ebea4fcb"
      },
      "outputs": [
        {
          "data": {
            "text/html": [
              "\n",
              "     <input type=\"file\" id=\"files-70e14067-657e-4f87-ae90-35f65c459c93\" name=\"files[]\" multiple disabled\n",
              "        style=\"border:none\" />\n",
              "     <output id=\"result-70e14067-657e-4f87-ae90-35f65c459c93\">\n",
              "      Upload widget is only available when the cell has been executed in the\n",
              "      current browser session. Please rerun this cell to enable.\n",
              "      </output>\n",
              "      <script>// Copyright 2017 Google LLC\n",
              "//\n",
              "// Licensed under the Apache License, Version 2.0 (the \"License\");\n",
              "// you may not use this file except in compliance with the License.\n",
              "// You may obtain a copy of the License at\n",
              "//\n",
              "//      http://www.apache.org/licenses/LICENSE-2.0\n",
              "//\n",
              "// Unless required by applicable law or agreed to in writing, software\n",
              "// distributed under the License is distributed on an \"AS IS\" BASIS,\n",
              "// WITHOUT WARRANTIES OR CONDITIONS OF ANY KIND, either express or implied.\n",
              "// See the License for the specific language governing permissions and\n",
              "// limitations under the License.\n",
              "\n",
              "/**\n",
              " * @fileoverview Helpers for google.colab Python module.\n",
              " */\n",
              "(function(scope) {\n",
              "function span(text, styleAttributes = {}) {\n",
              "  const element = document.createElement('span');\n",
              "  element.textContent = text;\n",
              "  for (const key of Object.keys(styleAttributes)) {\n",
              "    element.style[key] = styleAttributes[key];\n",
              "  }\n",
              "  return element;\n",
              "}\n",
              "\n",
              "// Max number of bytes which will be uploaded at a time.\n",
              "const MAX_PAYLOAD_SIZE = 100 * 1024;\n",
              "\n",
              "function _uploadFiles(inputId, outputId) {\n",
              "  const steps = uploadFilesStep(inputId, outputId);\n",
              "  const outputElement = document.getElementById(outputId);\n",
              "  // Cache steps on the outputElement to make it available for the next call\n",
              "  // to uploadFilesContinue from Python.\n",
              "  outputElement.steps = steps;\n",
              "\n",
              "  return _uploadFilesContinue(outputId);\n",
              "}\n",
              "\n",
              "// This is roughly an async generator (not supported in the browser yet),\n",
              "// where there are multiple asynchronous steps and the Python side is going\n",
              "// to poll for completion of each step.\n",
              "// This uses a Promise to block the python side on completion of each step,\n",
              "// then passes the result of the previous step as the input to the next step.\n",
              "function _uploadFilesContinue(outputId) {\n",
              "  const outputElement = document.getElementById(outputId);\n",
              "  const steps = outputElement.steps;\n",
              "\n",
              "  const next = steps.next(outputElement.lastPromiseValue);\n",
              "  return Promise.resolve(next.value.promise).then((value) => {\n",
              "    // Cache the last promise value to make it available to the next\n",
              "    // step of the generator.\n",
              "    outputElement.lastPromiseValue = value;\n",
              "    return next.value.response;\n",
              "  });\n",
              "}\n",
              "\n",
              "/**\n",
              " * Generator function which is called between each async step of the upload\n",
              " * process.\n",
              " * @param {string} inputId Element ID of the input file picker element.\n",
              " * @param {string} outputId Element ID of the output display.\n",
              " * @return {!Iterable<!Object>} Iterable of next steps.\n",
              " */\n",
              "function* uploadFilesStep(inputId, outputId) {\n",
              "  const inputElement = document.getElementById(inputId);\n",
              "  inputElement.disabled = false;\n",
              "\n",
              "  const outputElement = document.getElementById(outputId);\n",
              "  outputElement.innerHTML = '';\n",
              "\n",
              "  const pickedPromise = new Promise((resolve) => {\n",
              "    inputElement.addEventListener('change', (e) => {\n",
              "      resolve(e.target.files);\n",
              "    });\n",
              "  });\n",
              "\n",
              "  const cancel = document.createElement('button');\n",
              "  inputElement.parentElement.appendChild(cancel);\n",
              "  cancel.textContent = 'Cancel upload';\n",
              "  const cancelPromise = new Promise((resolve) => {\n",
              "    cancel.onclick = () => {\n",
              "      resolve(null);\n",
              "    };\n",
              "  });\n",
              "\n",
              "  // Wait for the user to pick the files.\n",
              "  const files = yield {\n",
              "    promise: Promise.race([pickedPromise, cancelPromise]),\n",
              "    response: {\n",
              "      action: 'starting',\n",
              "    }\n",
              "  };\n",
              "\n",
              "  cancel.remove();\n",
              "\n",
              "  // Disable the input element since further picks are not allowed.\n",
              "  inputElement.disabled = true;\n",
              "\n",
              "  if (!files) {\n",
              "    return {\n",
              "      response: {\n",
              "        action: 'complete',\n",
              "      }\n",
              "    };\n",
              "  }\n",
              "\n",
              "  for (const file of files) {\n",
              "    const li = document.createElement('li');\n",
              "    li.append(span(file.name, {fontWeight: 'bold'}));\n",
              "    li.append(span(\n",
              "        `(${file.type || 'n/a'}) - ${file.size} bytes, ` +\n",
              "        `last modified: ${\n",
              "            file.lastModifiedDate ? file.lastModifiedDate.toLocaleDateString() :\n",
              "                                    'n/a'} - `));\n",
              "    const percent = span('0% done');\n",
              "    li.appendChild(percent);\n",
              "\n",
              "    outputElement.appendChild(li);\n",
              "\n",
              "    const fileDataPromise = new Promise((resolve) => {\n",
              "      const reader = new FileReader();\n",
              "      reader.onload = (e) => {\n",
              "        resolve(e.target.result);\n",
              "      };\n",
              "      reader.readAsArrayBuffer(file);\n",
              "    });\n",
              "    // Wait for the data to be ready.\n",
              "    let fileData = yield {\n",
              "      promise: fileDataPromise,\n",
              "      response: {\n",
              "        action: 'continue',\n",
              "      }\n",
              "    };\n",
              "\n",
              "    // Use a chunked sending to avoid message size limits. See b/62115660.\n",
              "    let position = 0;\n",
              "    do {\n",
              "      const length = Math.min(fileData.byteLength - position, MAX_PAYLOAD_SIZE);\n",
              "      const chunk = new Uint8Array(fileData, position, length);\n",
              "      position += length;\n",
              "\n",
              "      const base64 = btoa(String.fromCharCode.apply(null, chunk));\n",
              "      yield {\n",
              "        response: {\n",
              "          action: 'append',\n",
              "          file: file.name,\n",
              "          data: base64,\n",
              "        },\n",
              "      };\n",
              "\n",
              "      let percentDone = fileData.byteLength === 0 ?\n",
              "          100 :\n",
              "          Math.round((position / fileData.byteLength) * 100);\n",
              "      percent.textContent = `${percentDone}% done`;\n",
              "\n",
              "    } while (position < fileData.byteLength);\n",
              "  }\n",
              "\n",
              "  // All done.\n",
              "  yield {\n",
              "    response: {\n",
              "      action: 'complete',\n",
              "    }\n",
              "  };\n",
              "}\n",
              "\n",
              "scope.google = scope.google || {};\n",
              "scope.google.colab = scope.google.colab || {};\n",
              "scope.google.colab._files = {\n",
              "  _uploadFiles,\n",
              "  _uploadFilesContinue,\n",
              "};\n",
              "})(self);\n",
              "</script> "
            ],
            "text/plain": [
              "<IPython.core.display.HTML object>"
            ]
          },
          "metadata": {},
          "output_type": "display_data"
        },
        {
          "name": "stdout",
          "output_type": "stream",
          "text": [
            "Saving CLEAN_2010_2022.csv to CLEAN_2010_2022.csv\n"
          ]
        }
      ],
      "source": [
        "uploaded = files.upload()\n"
      ]
    },
    {
      "cell_type": "code",
      "execution_count": null,
      "metadata": {
        "colab": {
          "base_uri": "https://localhost:8080/",
          "height": 206
        },
        "id": "G-c_p1bO-QDM",
        "outputId": "ea3c2402-ad2a-4193-c838-bc716a41dc24"
      },
      "outputs": [
        {
          "data": {
            "text/html": [
              "\n",
              "  <div id=\"df-78cf32d3-dfb8-4e31-acee-e2da779e88cc\">\n",
              "    <div class=\"colab-df-container\">\n",
              "      <div>\n",
              "<style scoped>\n",
              "    .dataframe tbody tr th:only-of-type {\n",
              "        vertical-align: middle;\n",
              "    }\n",
              "\n",
              "    .dataframe tbody tr th {\n",
              "        vertical-align: top;\n",
              "    }\n",
              "\n",
              "    .dataframe thead th {\n",
              "        text-align: right;\n",
              "    }\n",
              "</style>\n",
              "<table border=\"1\" class=\"dataframe\">\n",
              "  <thead>\n",
              "    <tr style=\"text-align: right;\">\n",
              "      <th></th>\n",
              "      <th>Date</th>\n",
              "      <th>SMR CV</th>\n",
              "      <th>SMR L</th>\n",
              "      <th>SMR 5</th>\n",
              "      <th>SMR GP</th>\n",
              "      <th>SMR 10</th>\n",
              "      <th>SMR 20</th>\n",
              "      <th>Bulk Latex</th>\n",
              "    </tr>\n",
              "  </thead>\n",
              "  <tbody>\n",
              "    <tr>\n",
              "      <th>0</th>\n",
              "      <td>2010-01-04</td>\n",
              "      <td>1004.5</td>\n",
              "      <td>986.0</td>\n",
              "      <td>976.0</td>\n",
              "      <td>973.0</td>\n",
              "      <td>956.5</td>\n",
              "      <td>954.5</td>\n",
              "      <td>606.0</td>\n",
              "    </tr>\n",
              "    <tr>\n",
              "      <th>1</th>\n",
              "      <td>2010-01-05</td>\n",
              "      <td>1015.5</td>\n",
              "      <td>995.5</td>\n",
              "      <td>988.0</td>\n",
              "      <td>985.0</td>\n",
              "      <td>968.5</td>\n",
              "      <td>966.5</td>\n",
              "      <td>613.5</td>\n",
              "    </tr>\n",
              "    <tr>\n",
              "      <th>2</th>\n",
              "      <td>2010-01-06</td>\n",
              "      <td>1022.0</td>\n",
              "      <td>1005.5</td>\n",
              "      <td>995.0</td>\n",
              "      <td>992.0</td>\n",
              "      <td>975.0</td>\n",
              "      <td>973.0</td>\n",
              "      <td>620.5</td>\n",
              "    </tr>\n",
              "    <tr>\n",
              "      <th>3</th>\n",
              "      <td>2010-01-07</td>\n",
              "      <td>1026.5</td>\n",
              "      <td>1013.5</td>\n",
              "      <td>1003.5</td>\n",
              "      <td>1000.5</td>\n",
              "      <td>983.5</td>\n",
              "      <td>981.5</td>\n",
              "      <td>627.5</td>\n",
              "    </tr>\n",
              "    <tr>\n",
              "      <th>4</th>\n",
              "      <td>2010-01-08</td>\n",
              "      <td>1032.5</td>\n",
              "      <td>1015.5</td>\n",
              "      <td>1004.0</td>\n",
              "      <td>1001.0</td>\n",
              "      <td>984.0</td>\n",
              "      <td>982.0</td>\n",
              "      <td>631.0</td>\n",
              "    </tr>\n",
              "  </tbody>\n",
              "</table>\n",
              "</div>\n",
              "      <button class=\"colab-df-convert\" onclick=\"convertToInteractive('df-78cf32d3-dfb8-4e31-acee-e2da779e88cc')\"\n",
              "              title=\"Convert this dataframe to an interactive table.\"\n",
              "              style=\"display:none;\">\n",
              "        \n",
              "  <svg xmlns=\"http://www.w3.org/2000/svg\" height=\"24px\"viewBox=\"0 0 24 24\"\n",
              "       width=\"24px\">\n",
              "    <path d=\"M0 0h24v24H0V0z\" fill=\"none\"/>\n",
              "    <path d=\"M18.56 5.44l.94 2.06.94-2.06 2.06-.94-2.06-.94-.94-2.06-.94 2.06-2.06.94zm-11 1L8.5 8.5l.94-2.06 2.06-.94-2.06-.94L8.5 2.5l-.94 2.06-2.06.94zm10 10l.94 2.06.94-2.06 2.06-.94-2.06-.94-.94-2.06-.94 2.06-2.06.94z\"/><path d=\"M17.41 7.96l-1.37-1.37c-.4-.4-.92-.59-1.43-.59-.52 0-1.04.2-1.43.59L10.3 9.45l-7.72 7.72c-.78.78-.78 2.05 0 2.83L4 21.41c.39.39.9.59 1.41.59.51 0 1.02-.2 1.41-.59l7.78-7.78 2.81-2.81c.8-.78.8-2.07 0-2.86zM5.41 20L4 18.59l7.72-7.72 1.47 1.35L5.41 20z\"/>\n",
              "  </svg>\n",
              "      </button>\n",
              "      \n",
              "  <style>\n",
              "    .colab-df-container {\n",
              "      display:flex;\n",
              "      flex-wrap:wrap;\n",
              "      gap: 12px;\n",
              "    }\n",
              "\n",
              "    .colab-df-convert {\n",
              "      background-color: #E8F0FE;\n",
              "      border: none;\n",
              "      border-radius: 50%;\n",
              "      cursor: pointer;\n",
              "      display: none;\n",
              "      fill: #1967D2;\n",
              "      height: 32px;\n",
              "      padding: 0 0 0 0;\n",
              "      width: 32px;\n",
              "    }\n",
              "\n",
              "    .colab-df-convert:hover {\n",
              "      background-color: #E2EBFA;\n",
              "      box-shadow: 0px 1px 2px rgba(60, 64, 67, 0.3), 0px 1px 3px 1px rgba(60, 64, 67, 0.15);\n",
              "      fill: #174EA6;\n",
              "    }\n",
              "\n",
              "    [theme=dark] .colab-df-convert {\n",
              "      background-color: #3B4455;\n",
              "      fill: #D2E3FC;\n",
              "    }\n",
              "\n",
              "    [theme=dark] .colab-df-convert:hover {\n",
              "      background-color: #434B5C;\n",
              "      box-shadow: 0px 1px 3px 1px rgba(0, 0, 0, 0.15);\n",
              "      filter: drop-shadow(0px 1px 2px rgba(0, 0, 0, 0.3));\n",
              "      fill: #FFFFFF;\n",
              "    }\n",
              "  </style>\n",
              "\n",
              "      <script>\n",
              "        const buttonEl =\n",
              "          document.querySelector('#df-78cf32d3-dfb8-4e31-acee-e2da779e88cc button.colab-df-convert');\n",
              "        buttonEl.style.display =\n",
              "          google.colab.kernel.accessAllowed ? 'block' : 'none';\n",
              "\n",
              "        async function convertToInteractive(key) {\n",
              "          const element = document.querySelector('#df-78cf32d3-dfb8-4e31-acee-e2da779e88cc');\n",
              "          const dataTable =\n",
              "            await google.colab.kernel.invokeFunction('convertToInteractive',\n",
              "                                                     [key], {});\n",
              "          if (!dataTable) return;\n",
              "\n",
              "          const docLinkHtml = 'Like what you see? Visit the ' +\n",
              "            '<a target=\"_blank\" href=https://colab.research.google.com/notebooks/data_table.ipynb>data table notebook</a>'\n",
              "            + ' to learn more about interactive tables.';\n",
              "          element.innerHTML = '';\n",
              "          dataTable['output_type'] = 'display_data';\n",
              "          await google.colab.output.renderOutput(dataTable, element);\n",
              "          const docLink = document.createElement('div');\n",
              "          docLink.innerHTML = docLinkHtml;\n",
              "          element.appendChild(docLink);\n",
              "        }\n",
              "      </script>\n",
              "    </div>\n",
              "  </div>\n",
              "  "
            ],
            "text/plain": [
              "         Date  SMR CV   SMR L   SMR 5  SMR GP  SMR 10  SMR 20  Bulk Latex\n",
              "0  2010-01-04  1004.5   986.0   976.0   973.0   956.5   954.5       606.0\n",
              "1  2010-01-05  1015.5   995.5   988.0   985.0   968.5   966.5       613.5\n",
              "2  2010-01-06  1022.0  1005.5   995.0   992.0   975.0   973.0       620.5\n",
              "3  2010-01-07  1026.5  1013.5  1003.5  1000.5   983.5   981.5       627.5\n",
              "4  2010-01-08  1032.5  1015.5  1004.0  1001.0   984.0   982.0       631.0"
            ]
          },
          "execution_count": 4,
          "metadata": {},
          "output_type": "execute_result"
        }
      ],
      "source": [
        "uploaded_file = io.BytesIO(uploaded[\"CLEAN_2010_2022.csv\"])\n",
        "\n",
        "df = pd.read_csv(uploaded_file)\n",
        "\n",
        "df.head()"
      ]
    },
    {
      "cell_type": "code",
      "execution_count": null,
      "metadata": {
        "colab": {
          "base_uri": "https://localhost:8080/",
          "height": 206
        },
        "id": "NA9mAUH6-rv1",
        "outputId": "effc79c2-4109-4645-db0b-8d0458a5c1f1"
      },
      "outputs": [
        {
          "data": {
            "text/html": [
              "\n",
              "  <div id=\"df-c5023ae0-776c-47ba-bd5b-49229537efe9\">\n",
              "    <div class=\"colab-df-container\">\n",
              "      <div>\n",
              "<style scoped>\n",
              "    .dataframe tbody tr th:only-of-type {\n",
              "        vertical-align: middle;\n",
              "    }\n",
              "\n",
              "    .dataframe tbody tr th {\n",
              "        vertical-align: top;\n",
              "    }\n",
              "\n",
              "    .dataframe thead th {\n",
              "        text-align: right;\n",
              "    }\n",
              "</style>\n",
              "<table border=\"1\" class=\"dataframe\">\n",
              "  <thead>\n",
              "    <tr style=\"text-align: right;\">\n",
              "      <th></th>\n",
              "      <th>Date</th>\n",
              "      <th>Bulk Latex</th>\n",
              "    </tr>\n",
              "  </thead>\n",
              "  <tbody>\n",
              "    <tr>\n",
              "      <th>3156</th>\n",
              "      <td>2022-12-19</td>\n",
              "      <td>472.5</td>\n",
              "    </tr>\n",
              "    <tr>\n",
              "      <th>3157</th>\n",
              "      <td>2022-12-20</td>\n",
              "      <td>477.0</td>\n",
              "    </tr>\n",
              "    <tr>\n",
              "      <th>3158</th>\n",
              "      <td>2022-12-21</td>\n",
              "      <td>480.0</td>\n",
              "    </tr>\n",
              "    <tr>\n",
              "      <th>3159</th>\n",
              "      <td>2022-12-22</td>\n",
              "      <td>481.5</td>\n",
              "    </tr>\n",
              "    <tr>\n",
              "      <th>3160</th>\n",
              "      <td>2022-12-23</td>\n",
              "      <td>482.0</td>\n",
              "    </tr>\n",
              "  </tbody>\n",
              "</table>\n",
              "</div>\n",
              "      <button class=\"colab-df-convert\" onclick=\"convertToInteractive('df-c5023ae0-776c-47ba-bd5b-49229537efe9')\"\n",
              "              title=\"Convert this dataframe to an interactive table.\"\n",
              "              style=\"display:none;\">\n",
              "        \n",
              "  <svg xmlns=\"http://www.w3.org/2000/svg\" height=\"24px\"viewBox=\"0 0 24 24\"\n",
              "       width=\"24px\">\n",
              "    <path d=\"M0 0h24v24H0V0z\" fill=\"none\"/>\n",
              "    <path d=\"M18.56 5.44l.94 2.06.94-2.06 2.06-.94-2.06-.94-.94-2.06-.94 2.06-2.06.94zm-11 1L8.5 8.5l.94-2.06 2.06-.94-2.06-.94L8.5 2.5l-.94 2.06-2.06.94zm10 10l.94 2.06.94-2.06 2.06-.94-2.06-.94-.94-2.06-.94 2.06-2.06.94z\"/><path d=\"M17.41 7.96l-1.37-1.37c-.4-.4-.92-.59-1.43-.59-.52 0-1.04.2-1.43.59L10.3 9.45l-7.72 7.72c-.78.78-.78 2.05 0 2.83L4 21.41c.39.39.9.59 1.41.59.51 0 1.02-.2 1.41-.59l7.78-7.78 2.81-2.81c.8-.78.8-2.07 0-2.86zM5.41 20L4 18.59l7.72-7.72 1.47 1.35L5.41 20z\"/>\n",
              "  </svg>\n",
              "      </button>\n",
              "      \n",
              "  <style>\n",
              "    .colab-df-container {\n",
              "      display:flex;\n",
              "      flex-wrap:wrap;\n",
              "      gap: 12px;\n",
              "    }\n",
              "\n",
              "    .colab-df-convert {\n",
              "      background-color: #E8F0FE;\n",
              "      border: none;\n",
              "      border-radius: 50%;\n",
              "      cursor: pointer;\n",
              "      display: none;\n",
              "      fill: #1967D2;\n",
              "      height: 32px;\n",
              "      padding: 0 0 0 0;\n",
              "      width: 32px;\n",
              "    }\n",
              "\n",
              "    .colab-df-convert:hover {\n",
              "      background-color: #E2EBFA;\n",
              "      box-shadow: 0px 1px 2px rgba(60, 64, 67, 0.3), 0px 1px 3px 1px rgba(60, 64, 67, 0.15);\n",
              "      fill: #174EA6;\n",
              "    }\n",
              "\n",
              "    [theme=dark] .colab-df-convert {\n",
              "      background-color: #3B4455;\n",
              "      fill: #D2E3FC;\n",
              "    }\n",
              "\n",
              "    [theme=dark] .colab-df-convert:hover {\n",
              "      background-color: #434B5C;\n",
              "      box-shadow: 0px 1px 3px 1px rgba(0, 0, 0, 0.15);\n",
              "      filter: drop-shadow(0px 1px 2px rgba(0, 0, 0, 0.3));\n",
              "      fill: #FFFFFF;\n",
              "    }\n",
              "  </style>\n",
              "\n",
              "      <script>\n",
              "        const buttonEl =\n",
              "          document.querySelector('#df-c5023ae0-776c-47ba-bd5b-49229537efe9 button.colab-df-convert');\n",
              "        buttonEl.style.display =\n",
              "          google.colab.kernel.accessAllowed ? 'block' : 'none';\n",
              "\n",
              "        async function convertToInteractive(key) {\n",
              "          const element = document.querySelector('#df-c5023ae0-776c-47ba-bd5b-49229537efe9');\n",
              "          const dataTable =\n",
              "            await google.colab.kernel.invokeFunction('convertToInteractive',\n",
              "                                                     [key], {});\n",
              "          if (!dataTable) return;\n",
              "\n",
              "          const docLinkHtml = 'Like what you see? Visit the ' +\n",
              "            '<a target=\"_blank\" href=https://colab.research.google.com/notebooks/data_table.ipynb>data table notebook</a>'\n",
              "            + ' to learn more about interactive tables.';\n",
              "          element.innerHTML = '';\n",
              "          dataTable['output_type'] = 'display_data';\n",
              "          await google.colab.output.renderOutput(dataTable, element);\n",
              "          const docLink = document.createElement('div');\n",
              "          docLink.innerHTML = docLinkHtml;\n",
              "          element.appendChild(docLink);\n",
              "        }\n",
              "      </script>\n",
              "    </div>\n",
              "  </div>\n",
              "  "
            ],
            "text/plain": [
              "            Date  Bulk Latex\n",
              "3156  2022-12-19       472.5\n",
              "3157  2022-12-20       477.0\n",
              "3158  2022-12-21       480.0\n",
              "3159  2022-12-22       481.5\n",
              "3160  2022-12-23       482.0"
            ]
          },
          "execution_count": 5,
          "metadata": {},
          "output_type": "execute_result"
        }
      ],
      "source": [
        "df = df[[\"Date\",\"Bulk Latex\"]]\n",
        "df.tail()"
      ]
    },
    {
      "cell_type": "code",
      "execution_count": null,
      "metadata": {
        "colab": {
          "base_uri": "https://localhost:8080/"
        },
        "id": "M3SvuoHqK4UZ",
        "outputId": "4f8a7218-1898-4189-debc-7a5bf69a2b89"
      },
      "outputs": [
        {
          "name": "stdout",
          "output_type": "stream",
          "text": [
            "2528\n",
            "633\n"
          ]
        }
      ],
      "source": [
        "close_data = df['Bulk Latex'].values\n",
        "close_data = close_data.reshape((-1,1))\n",
        "\n",
        "split_percent = 0.80\n",
        "split = int(split_percent*len(close_data))\n",
        "\n",
        "close_train = close_data[:split]\n",
        "close_test = close_data[split:]\n",
        "\n",
        "date_train = df['Date'][:split]\n",
        "date_test = df['Date'][split:]\n",
        "\n",
        "print(len(close_train))\n",
        "print(len(close_test))"
      ]
    },
    {
      "cell_type": "code",
      "execution_count": null,
      "metadata": {
        "id": "Wk1mO8Q0fn3E"
      },
      "outputs": [],
      "source": [
        "np.random.seed(0)  \n",
        "tf.random.set_seed(0)"
      ]
    },
    {
      "cell_type": "code",
      "execution_count": null,
      "metadata": {
        "id": "Iv3Pj04JW0WY"
      },
      "outputs": [],
      "source": [
        "look_back = 2\n",
        "\n",
        "train_generator = TimeseriesGenerator(close_train, close_train, length=look_back, batch_size=20)     \n",
        "test_generator = TimeseriesGenerator(close_test, close_test, length=look_back, batch_size=1)"
      ]
    },
    {
      "cell_type": "code",
      "execution_count": null,
      "metadata": {
        "colab": {
          "base_uri": "https://localhost:8080/"
        },
        "id": "sWU961neW2oH",
        "outputId": "6f2cd537-df61-4139-85c2-2080083bef2c"
      },
      "outputs": [
        {
          "name": "stdout",
          "output_type": "stream",
          "text": [
            "RMSE: 3.474200289472257\n"
          ]
        }
      ],
      "source": [
        "from keras.models import Sequential\n",
        "from keras.layers import LSTM, Dense\n",
        "from sklearn.metrics import mean_squared_error\n",
        "\n",
        "model = Sequential()\n",
        "model.add(\n",
        "    LSTM(100,\n",
        "        activation='relu',\n",
        "        input_shape=(look_back,1), seed=42)\n",
        ")\n",
        "\n",
        "model.add(Dense(25))\n",
        "\n",
        "model.add(Dense(1))\n",
        "model.compile(optimizer='adam', loss='mse')\n",
        "\n",
        "num_epochs = 10\n",
        "\n",
        "while (True):\n",
        "  model.fit(\n",
        "      train_generator,\n",
        "      steps_per_epoch=len(train_generator),\n",
        "      epochs=num_epochs,\n",
        "      verbose=0\n",
        "  )\n",
        "  prediction = model.predict(test_generator, verbose=0)\n",
        "  close_test_check = close_test[:-2] \n",
        "\n",
        "  mse = mean_squared_error(close_test_check, prediction)\n",
        "  # Calculate the root mean squared error\n",
        "  rmse = np.sqrt(mse)\n",
        "\n",
        "  print(f'RMSE: {rmse}')\n",
        "  if rmse <= 4:\n",
        "    break\n"
      ]
    },
    {
      "cell_type": "code",
      "execution_count": null,
      "metadata": {
        "colab": {
          "base_uri": "https://localhost:8080/",
          "height": 542
        },
        "id": "mlz6kr40XEPo",
        "outputId": "ceb8f491-3f94-49c5-916c-98919e930b26"
      },
      "outputs": [
        {
          "data": {
            "text/html": [
              "<html>\n",
              "<head><meta charset=\"utf-8\" /></head>\n",
              "<body>\n",
              "    <div>            <script src=\"https://cdnjs.cloudflare.com/ajax/libs/mathjax/2.7.5/MathJax.js?config=TeX-AMS-MML_SVG\"></script><script type=\"text/javascript\">if (window.MathJax) {MathJax.Hub.Config({SVG: {font: \"STIX-Web\"}});}</script>                <script type=\"text/javascript\">window.PlotlyConfig = {MathJaxConfig: 'local'};</script>\n",
              "        <script src=\"https://cdn.plot.ly/plotly-2.8.3.min.js\"></script>                <div id=\"503cdb29-2ea5-4b2d-94d9-83f4be975e7e\" class=\"plotly-graph-div\" style=\"height:525px; width:100%;\"></div>            <script type=\"text/javascript\">                                    window.PLOTLYENV=window.PLOTLYENV || {};                                    if (document.getElementById(\"503cdb29-2ea5-4b2d-94d9-83f4be975e7e\")) {                    Plotly.newPlot(                        \"503cdb29-2ea5-4b2d-94d9-83f4be975e7e\",                        [{\"mode\":\"lines\",\"name\":\"Data\",\"x\":[\"2010-01-04\",\"2010-01-05\",\"2010-01-06\",\"2010-01-07\",\"2010-01-08\",\"2010-01-11\",\"2010-01-12\",\"2010-01-13\",\"2010-01-14\",\"2010-01-15\",\"2010-01-18\",\"2010-01-19\",\"2010-01-20\",\"2010-01-21\",\"2010-01-22\",\"2010-01-25\",\"2010-01-26\",\"2010-01-27\",\"2010-01-28\",\"2010-01-29\",\"2010-02-02\",\"2010-02-03\",\"2010-02-04\",\"2010-02-05\",\"2010-02-08\",\"2010-02-09\",\"2010-02-10\",\"2010-02-11\",\"2010-02-12\",\"2010-02-17\",\"2010-02-18\",\"2010-02-19\",\"2010-02-22\",\"2010-02-23\",\"2010-02-24\",\"2010-02-25\",\"2010-03-01\",\"2010-03-02\",\"2010-03-03\",\"2010-03-04\",\"2010-03-05\",\"2010-03-08\",\"2010-03-09\",\"2010-03-10\",\"2010-03-11\",\"2010-03-12\",\"2010-03-15\",\"2010-03-16\",\"2010-03-17\",\"2010-03-18\",\"2010-03-19\",\"2010-03-22\",\"2010-03-23\",\"2010-03-24\",\"2010-03-25\",\"2010-03-26\",\"2010-03-29\",\"2010-03-30\",\"2010-03-31\",\"2010-04-01\",\"2010-04-05\",\"2010-04-06\",\"2010-04-07\",\"2010-04-08\",\"2010-04-09\",\"2010-04-12\",\"2010-04-13\",\"2010-04-14\",\"2010-04-15\",\"2010-04-16\",\"2010-04-19\",\"2010-04-20\",\"2010-04-21\",\"2010-04-22\",\"2010-04-23\",\"2010-04-26\",\"2010-04-27\",\"2010-04-28\",\"2010-04-29\",\"2010-04-30\",\"2010-05-03\",\"2010-05-04\",\"2010-05-05\",\"2010-05-06\",\"2010-05-07\",\"2010-05-10\",\"2010-05-11\",\"2010-05-12\",\"2010-05-13\",\"2010-05-14\",\"2010-05-17\",\"2010-05-18\",\"2010-05-19\",\"2010-05-20\",\"2010-05-21\",\"2010-05-24\",\"2010-05-25\",\"2010-05-26\",\"2010-05-27\",\"2010-05-31\",\"2010-06-01\",\"2010-06-02\",\"2010-06-03\",\"2010-06-04\",\"2010-06-07\",\"2010-06-08\",\"2010-06-09\",\"2010-06-10\",\"2010-06-11\",\"2010-06-14\",\"2010-06-15\",\"2010-06-16\",\"2010-06-17\",\"2010-06-18\",\"2010-06-21\",\"2010-06-22\",\"2010-06-23\",\"2010-06-24\",\"2010-06-25\",\"2010-06-28\",\"2010-06-29\",\"2010-06-30\",\"2010-07-01\",\"2010-07-02\",\"2010-07-05\",\"2010-07-06\",\"2010-07-07\",\"2010-07-08\",\"2010-07-09\",\"2010-07-12\",\"2010-07-13\",\"2010-07-14\",\"2010-07-15\",\"2010-07-16\",\"2010-07-19\",\"2010-07-20\",\"2010-07-21\",\"2010-07-22\",\"2010-07-23\",\"2010-07-26\",\"2010-07-27\",\"2010-07-28\",\"2010-07-29\",\"2010-07-30\",\"2010-08-02\",\"2010-08-03\",\"2010-08-04\",\"2010-08-05\",\"2010-08-06\",\"2010-08-09\",\"2010-08-10\",\"2010-08-11\",\"2010-08-12\",\"2010-08-13\",\"2010-08-16\",\"2010-08-17\",\"2010-08-18\",\"2010-08-19\",\"2010-08-20\",\"2010-08-23\",\"2010-08-24\",\"2010-08-25\",\"2010-08-26\",\"2010-08-27\",\"2010-08-30\",\"2010-09-01\",\"2010-09-02\",\"2010-09-03\",\"2010-09-06\",\"2010-09-07\",\"2010-09-08\",\"2010-09-13\",\"2010-09-14\",\"2010-09-15\",\"2010-09-17\",\"2010-09-20\",\"2010-09-21\",\"2010-09-22\",\"2010-09-23\",\"2010-09-24\",\"2010-09-27\",\"2010-09-28\",\"2010-09-29\",\"2010-09-30\",\"2010-10-01\",\"2010-10-04\",\"2010-10-05\",\"2010-10-06\",\"2010-10-07\",\"2010-10-08\",\"2010-10-11\",\"2010-10-12\",\"2010-10-13\",\"2010-10-14\",\"2010-10-15\",\"2010-10-18\",\"2010-10-19\",\"2010-10-20\",\"2010-10-21\",\"2010-10-22\",\"2010-10-25\",\"2010-10-26\",\"2010-10-27\",\"2010-10-28\",\"2010-10-29\",\"2010-11-01\",\"2010-11-02\",\"2010-11-03\",\"2010-11-04\",\"2010-11-08\",\"2010-11-09\",\"2010-11-10\",\"2010-11-11\",\"2010-11-12\",\"2010-11-15\",\"2010-11-16\",\"2010-11-18\",\"2010-11-19\",\"2010-11-22\",\"2010-11-23\",\"2010-11-24\",\"2010-11-25\",\"2010-11-26\",\"2010-11-29\",\"2010-11-30\",\"2010-12-01\",\"2010-12-02\",\"2010-12-03\",\"2010-12-06\",\"2010-12-08\",\"2010-12-09\",\"2010-12-10\",\"2010-12-13\",\"2010-12-14\",\"2010-12-15\",\"2010-12-16\",\"2010-12-17\",\"2010-12-20\",\"2010-12-21\",\"2010-12-22\",\"2010-12-23\",\"2010-12-24\",\"2010-12-27\",\"2010-12-28\",\"2010-12-29\",\"2010-12-30\",\"2011-01-03\",\"2011-01-04\",\"2011-01-05\",\"2011-01-06\",\"2011-01-07\",\"2011-01-10\",\"2011-01-11\",\"2011-01-12\",\"2011-01-13\",\"2011-01-14\",\"2011-01-17\",\"2011-01-18\",\"2011-01-19\",\"2011-01-21\",\"2011-01-24\",\"2011-01-25\",\"2011-01-26\",\"2011-01-27\",\"2011-01-28\",\"2011-01-31\",\"2011-02-07\",\"2011-02-08\",\"2011-02-09\",\"2011-02-10\",\"2011-02-11\",\"2011-02-14\",\"2011-02-16\",\"2011-02-17\",\"2011-02-18\",\"2011-02-21\",\"2011-02-22\",\"2011-02-23\",\"2011-02-24\",\"2011-02-25\",\"2011-02-28\",\"2011-03-01\",\"2011-03-02\",\"2011-03-03\",\"2011-03-04\",\"2011-03-07\",\"2011-03-08\",\"2011-03-09\",\"2011-03-10\",\"2011-03-11\",\"2011-03-14\",\"2011-03-15\",\"2011-03-16\",\"2011-03-17\",\"2011-03-18\",\"2011-03-21\",\"2011-03-22\",\"2011-03-23\",\"2011-03-24\",\"2011-03-25\",\"2011-03-28\",\"2011-03-29\",\"2011-03-30\",\"2011-03-31\",\"2011-04-01\",\"2011-04-04\",\"2011-04-05\",\"2011-04-06\",\"2011-04-07\",\"2011-04-08\",\"2011-04-11\",\"2011-04-12\",\"2011-04-13\",\"2011-04-14\",\"2011-04-15\",\"2011-04-18\",\"2011-04-19\",\"2011-04-20\",\"2011-04-21\",\"2011-04-25\",\"2011-04-26\",\"2011-04-27\",\"2011-04-28\",\"2011-04-29\",\"2011-05-03\",\"2011-05-04\",\"2011-05-05\",\"2011-05-06\",\"2011-05-09\",\"2011-05-10\",\"2011-05-11\",\"2011-05-12\",\"2011-05-13\",\"2011-05-16\",\"2011-05-18\",\"2011-05-19\",\"2011-05-20\",\"2011-05-23\",\"2011-05-24\",\"2011-05-25\",\"2011-05-26\",\"2011-05-27\",\"2011-05-30\",\"2011-05-31\",\"2011-06-01\",\"2011-06-02\",\"2011-06-03\",\"2011-06-06\",\"2011-06-07\",\"2011-06-08\",\"2011-06-09\",\"2011-06-10\",\"2011-06-13\",\"2011-06-14\",\"2011-06-15\",\"2011-06-16\",\"2011-06-17\",\"2011-06-20\",\"2011-06-21\",\"2011-06-22\",\"2011-06-23\",\"2011-06-24\",\"2011-06-27\",\"2011-06-28\",\"2011-06-29\",\"2011-06-30\",\"2011-07-01\",\"2011-07-04\",\"2011-07-05\",\"2011-07-06\",\"2011-07-07\",\"2011-07-08\",\"2011-07-11\",\"2011-07-12\",\"2011-07-13\",\"2011-07-14\",\"2011-07-15\",\"2011-07-18\",\"2011-07-19\",\"2011-07-20\",\"2011-07-21\",\"2011-07-22\",\"2011-07-25\",\"2011-07-26\",\"2011-07-27\",\"2011-07-28\",\"2011-07-29\",\"2011-08-01\",\"2011-08-02\",\"2011-08-03\",\"2011-08-04\",\"2011-08-05\",\"2011-08-08\",\"2011-08-09\",\"2011-08-10\",\"2011-08-11\",\"2011-08-12\",\"2011-08-15\",\"2011-08-16\",\"2011-08-17\",\"2011-08-18\",\"2011-08-19\",\"2011-08-22\",\"2011-08-23\",\"2011-08-24\",\"2011-08-25\",\"2011-08-26\",\"2011-09-02\",\"2011-09-05\",\"2011-09-06\",\"2011-09-07\",\"2011-09-08\",\"2011-09-09\",\"2011-09-12\",\"2011-09-13\",\"2011-09-14\",\"2011-09-15\",\"2011-09-19\",\"2011-09-20\",\"2011-09-21\",\"2011-09-22\",\"2011-09-23\",\"2011-09-26\",\"2011-09-27\",\"2011-09-28\",\"2011-09-29\",\"2011-09-30\",\"2011-10-03\",\"2011-10-04\",\"2011-10-05\",\"2011-10-06\",\"2011-10-07\",\"2011-10-10\",\"2011-10-11\",\"2011-10-12\",\"2011-10-13\",\"2011-10-14\",\"2011-10-17\",\"2011-10-18\",\"2011-10-19\",\"2011-10-20\",\"2011-10-21\",\"2011-10-24\",\"2011-10-25\",\"2011-10-27\",\"2011-10-28\",\"2011-10-31\",\"2011-11-01\",\"2011-11-02\",\"2011-11-03\",\"2011-11-04\",\"2011-11-08\",\"2011-11-09\",\"2011-11-10\",\"2011-11-11\",\"2011-11-14\",\"2011-11-15\",\"2011-11-16\",\"2011-11-17\",\"2011-11-18\",\"2011-11-21\",\"2011-11-22\",\"2011-11-23\",\"2011-11-24\",\"2011-11-25\",\"2011-11-29\",\"2011-11-30\",\"2011-12-01\",\"2011-12-02\",\"2011-12-05\",\"2011-12-06\",\"2011-12-07\",\"2011-12-08\",\"2011-12-09\",\"2011-12-12\",\"2011-12-13\",\"2011-12-14\",\"2011-12-15\",\"2011-12-16\",\"2011-12-19\",\"2011-12-20\",\"2011-12-21\",\"2011-12-22\",\"2011-12-23\",\"2011-12-27\",\"2011-12-28\",\"2011-12-29\",\"2011-12-30\",\"2012-01-03\",\"2012-01-04\",\"2012-01-05\",\"2012-01-06\",\"2012-01-09\",\"2012-01-10\",\"2012-01-11\",\"2012-01-12\",\"2012-01-13\",\"2012-01-16\",\"2012-01-17\",\"2012-01-18\",\"2012-01-19\",\"2012-01-20\",\"2012-01-25\",\"2012-01-26\",\"2012-01-27\",\"2012-01-30\",\"2012-01-31\",\"2012-02-02\",\"2012-02-03\",\"2012-02-08\",\"2012-02-09\",\"2012-02-10\",\"2012-02-13\",\"2012-02-14\",\"2012-02-15\",\"2012-02-16\",\"2012-02-17\",\"2012-02-20\",\"2012-02-21\",\"2012-02-22\",\"2012-02-23\",\"2012-02-24\",\"2012-02-27\",\"2012-02-28\",\"2012-02-29\",\"2012-03-01\",\"2012-03-02\",\"2012-03-05\",\"2012-03-06\",\"2012-03-07\",\"2012-03-08\",\"2012-03-09\",\"2012-03-12\",\"2012-03-13\",\"2012-03-14\",\"2012-03-15\",\"2012-03-16\",\"2012-03-19\",\"2012-03-20\",\"2012-03-21\",\"2012-03-22\",\"2012-03-23\",\"2012-03-26\",\"2012-03-27\",\"2012-03-28\",\"2012-03-29\",\"2012-03-30\",\"2012-04-02\",\"2012-04-03\",\"2012-04-04\",\"2012-04-05\",\"2012-04-09\",\"2012-04-10\",\"2012-04-12\",\"2012-04-13\",\"2012-04-16\",\"2012-04-17\",\"2012-04-18\",\"2012-04-19\",\"2012-04-20\",\"2012-04-23\",\"2012-04-24\",\"2012-04-25\",\"2012-04-26\",\"2012-04-27\",\"2012-04-30\",\"2012-05-02\",\"2012-05-03\",\"2012-05-04\",\"2012-05-07\",\"2012-05-08\",\"2012-05-09\",\"2012-05-10\",\"2012-05-11\",\"2012-05-14\",\"2012-05-15\",\"2012-05-16\",\"2012-05-17\",\"2012-05-18\",\"2012-05-21\",\"2012-05-22\",\"2012-05-23\",\"2012-05-24\",\"2012-05-25\",\"2012-05-28\",\"2012-05-29\",\"2012-05-30\",\"2012-05-31\",\"2012-06-01\",\"2012-06-04\",\"2012-06-05\",\"2012-06-06\",\"2012-06-07\",\"2012-06-08\",\"2012-06-11\",\"2012-06-12\",\"2012-06-13\",\"2012-06-14\",\"2012-06-15\",\"2012-06-18\",\"2012-06-19\",\"2012-06-20\",\"2012-06-21\",\"2012-06-22\",\"2012-06-25\",\"2012-06-26\",\"2012-06-27\",\"2012-06-28\",\"2012-06-29\",\"2012-07-02\",\"2012-07-03\",\"2012-07-04\",\"2012-07-05\",\"2012-07-06\",\"2012-07-09\",\"2012-07-10\",\"2012-07-11\",\"2012-07-12\",\"2012-07-13\",\"2012-07-16\",\"2012-07-17\",\"2012-07-18\",\"2012-07-19\",\"2012-07-20\",\"2012-07-23\",\"2012-07-24\",\"2012-07-25\",\"2012-07-26\",\"2012-07-27\",\"2012-07-30\",\"2012-07-31\",\"2012-08-01\",\"2012-08-02\",\"2012-08-03\",\"2012-08-06\",\"2012-08-07\",\"2012-08-08\",\"2012-08-09\",\"2012-08-10\",\"2012-08-13\",\"2012-08-14\",\"2012-08-15\",\"2012-08-16\",\"2012-08-17\",\"2012-08-22\",\"2012-08-23\",\"2012-08-24\",\"2012-08-27\",\"2012-08-28\",\"2012-08-29\",\"2012-08-30\",\"2012-09-03\",\"2012-09-04\",\"2012-09-05\",\"2012-09-06\",\"2012-09-07\",\"2012-09-10\",\"2012-09-11\",\"2012-09-12\",\"2012-09-13\",\"2012-09-14\",\"2012-09-18\",\"2012-09-19\",\"2012-09-20\",\"2012-09-21\",\"2012-09-24\",\"2012-09-25\",\"2012-09-26\",\"2012-09-27\",\"2012-09-28\",\"2012-10-01\",\"2012-10-02\",\"2012-10-03\",\"2012-10-04\",\"2012-10-05\",\"2012-10-08\",\"2012-10-09\",\"2012-10-10\",\"2012-10-11\",\"2012-10-12\",\"2012-10-15\",\"2012-10-16\",\"2012-10-17\",\"2012-10-18\",\"2012-10-19\",\"2012-10-22\",\"2012-10-23\",\"2012-10-24\",\"2012-10-25\",\"2012-10-29\",\"2012-10-30\",\"2012-10-31\",\"2012-11-01\",\"2012-11-02\",\"2012-11-05\",\"2012-11-06\",\"2012-11-07\",\"2012-11-08\",\"2012-11-09\",\"2012-11-12\",\"2012-11-14\",\"2012-11-16\",\"2012-11-19\",\"2012-11-20\",\"2012-11-21\",\"2012-11-22\",\"2012-11-23\",\"2012-11-26\",\"2012-11-27\",\"2012-11-28\",\"2012-11-29\",\"2012-11-30\",\"2012-12-03\",\"2012-12-04\",\"2012-12-05\",\"2012-12-06\",\"2012-12-07\",\"2012-12-10\",\"2012-12-11\",\"2012-12-12\",\"2012-12-13\",\"2012-12-14\",\"2012-12-17\",\"2012-12-18\",\"2012-12-19\",\"2012-12-20\",\"2012-12-21\",\"2012-12-24\",\"2012-12-26\",\"2012-12-27\",\"2012-12-28\",\"2012-12-31\",\"2013-01-02\",\"2013-01-03\",\"2013-01-04\",\"2013-01-07\",\"2013-01-08\",\"2013-01-09\",\"2013-01-10\",\"2013-01-11\",\"2013-01-14\",\"2013-01-15\",\"2013-01-16\",\"2013-01-17\",\"2013-01-18\",\"2013-01-21\",\"2013-01-22\",\"2013-01-23\",\"2013-01-25\",\"2013-01-29\",\"2013-01-30\",\"2013-01-31\",\"2013-02-04\",\"2013-02-05\",\"2013-02-06\",\"2013-02-07\",\"2013-02-08\",\"2013-02-13\",\"2013-02-14\",\"2013-02-15\",\"2013-02-18\",\"2013-02-19\",\"2013-02-20\",\"2013-02-21\",\"2013-02-22\",\"2013-02-25\",\"2013-02-26\",\"2013-02-27\",\"2013-02-28\",\"2013-03-01\",\"2013-03-04\",\"2013-03-05\",\"2013-03-06\",\"2013-03-07\",\"2013-03-08\",\"2013-03-11\",\"2013-03-12\",\"2013-03-13\",\"2013-03-14\",\"2013-03-15\",\"2013-03-18\",\"2013-03-19\",\"2013-03-20\",\"2013-03-21\",\"2013-03-22\",\"2013-03-25\",\"2013-03-26\",\"2013-03-27\",\"2013-03-28\",\"2013-04-01\",\"2013-04-02\",\"2013-04-03\",\"2013-04-04\",\"2013-04-05\",\"2013-04-08\",\"2013-04-09\",\"2013-04-10\",\"2013-04-11\",\"2013-04-12\",\"2013-04-15\",\"2013-04-16\",\"2013-04-17\",\"2013-04-18\",\"2013-04-19\",\"2013-04-22\",\"2013-04-23\",\"2013-04-24\",\"2013-04-25\",\"2013-04-26\",\"2013-04-29\",\"2013-04-30\",\"2013-05-02\",\"2013-05-03\",\"2013-05-06\",\"2013-05-07\",\"2013-05-08\",\"2013-05-09\",\"2013-05-10\",\"2013-05-13\",\"2013-05-14\",\"2013-05-15\",\"2013-05-16\",\"2013-05-17\",\"2013-05-20\",\"2013-05-21\",\"2013-05-22\",\"2013-05-23\",\"2013-05-27\",\"2013-05-28\",\"2013-05-29\",\"2013-05-30\",\"2013-05-31\",\"2013-06-03\",\"2013-06-04\",\"2013-06-05\",\"2013-06-06\",\"2013-06-07\",\"2013-06-10\",\"2013-06-11\",\"2013-06-12\",\"2013-06-13\",\"2013-06-14\",\"2013-06-17\",\"2013-06-18\",\"2013-06-19\",\"2013-06-20\",\"2013-06-21\",\"2013-06-24\",\"2013-06-25\",\"2013-06-26\",\"2013-06-27\",\"2013-06-28\",\"2013-07-01\",\"2013-07-02\",\"2013-07-03\",\"2013-07-04\",\"2013-07-05\",\"2013-07-08\",\"2013-07-09\",\"2013-07-10\",\"2013-07-11\",\"2013-07-12\",\"2013-07-15\",\"2013-07-16\",\"2013-07-17\",\"2013-07-18\",\"2013-07-19\",\"2013-07-22\",\"2013-07-23\",\"2013-07-24\",\"2013-07-25\",\"2013-07-26\",\"2013-07-29\",\"2013-07-30\",\"2013-07-31\",\"2013-08-01\",\"2013-08-02\",\"2013-08-05\",\"2013-08-06\",\"2013-08-07\",\"2013-08-12\",\"2013-08-13\",\"2013-08-14\",\"2013-08-15\",\"2013-08-16\",\"2013-08-19\",\"2013-08-20\",\"2013-08-21\",\"2013-08-22\",\"2013-08-23\",\"2013-08-26\",\"2013-08-27\",\"2013-08-28\",\"2013-08-29\",\"2013-08-30\",\"2013-09-02\",\"2013-09-03\",\"2013-09-04\",\"2013-09-05\",\"2013-09-06\",\"2013-09-09\",\"2013-09-10\",\"2013-09-11\",\"2013-09-12\",\"2013-09-13\",\"2013-09-17\",\"2013-09-18\",\"2013-09-19\",\"2013-09-20\",\"2013-09-23\",\"2013-09-24\",\"2013-09-25\",\"2013-09-26\",\"2013-09-27\",\"2013-09-30\",\"2013-10-01\",\"2013-10-02\",\"2013-10-03\",\"2013-10-04\",\"2013-10-07\",\"2013-10-08\",\"2013-10-09\",\"2013-10-10\",\"2013-10-11\",\"2013-10-14\",\"2013-10-16\",\"2013-10-17\",\"2013-10-18\",\"2013-10-21\",\"2013-10-22\",\"2013-10-23\",\"2013-10-24\",\"2013-10-25\",\"2013-10-28\",\"2013-10-29\",\"2013-10-30\",\"2013-10-31\",\"2013-11-01\",\"2013-11-04\",\"2013-11-06\",\"2013-11-07\",\"2013-11-08\",\"2013-11-11\",\"2013-11-12\",\"2013-11-13\",\"2013-11-14\",\"2013-11-15\",\"2013-11-18\",\"2013-11-19\",\"2013-11-20\",\"2013-11-21\",\"2013-11-22\",\"2013-11-25\",\"2013-11-26\",\"2013-11-27\",\"2013-11-28\",\"2013-11-29\",\"2013-12-02\",\"2013-12-03\",\"2013-12-04\",\"2013-12-05\",\"2013-12-06\",\"2013-12-09\",\"2013-12-10\",\"2013-12-11\",\"2013-12-12\",\"2013-12-13\",\"2013-12-16\",\"2013-12-17\",\"2013-12-18\",\"2013-12-19\",\"2013-12-20\",\"2013-12-23\",\"2013-12-24\",\"2013-12-26\",\"2013-12-27\",\"2013-12-30\",\"2013-12-31\",\"2014-01-02\",\"2014-01-03\",\"2014-01-06\",\"2014-01-07\",\"2014-01-08\",\"2014-01-09\",\"2014-01-10\",\"2014-01-13\",\"2014-01-15\",\"2014-01-16\",\"2014-01-20\",\"2014-01-21\",\"2014-01-22\",\"2014-01-23\",\"2014-01-24\",\"2014-01-27\",\"2014-01-28\",\"2014-01-29\",\"2014-01-30\",\"2014-02-04\",\"2014-02-05\",\"2014-02-06\",\"2014-02-07\",\"2014-02-10\",\"2014-02-11\",\"2014-02-12\",\"2014-02-13\",\"2014-02-14\",\"2014-02-17\",\"2014-02-18\",\"2014-02-19\",\"2014-02-20\",\"2014-02-21\",\"2014-02-24\",\"2014-02-25\",\"2014-02-26\",\"2014-02-27\",\"2014-02-28\",\"2014-03-03\",\"2014-03-04\",\"2014-03-05\",\"2014-03-06\",\"2014-03-07\",\"2014-03-10\",\"2014-03-11\",\"2014-03-12\",\"2014-03-13\",\"2014-03-14\",\"2014-03-17\",\"2014-03-18\",\"2014-03-19\",\"2014-03-20\",\"2014-03-21\",\"2014-03-24\",\"2014-03-25\",\"2014-03-26\",\"2014-03-27\",\"2014-03-28\",\"2014-03-31\",\"2014-04-01\",\"2014-04-02\",\"2014-04-03\",\"2014-04-04\",\"2014-04-07\",\"2014-04-08\",\"2014-04-09\",\"2014-04-10\",\"2014-04-11\",\"2014-04-14\",\"2014-04-15\",\"2014-04-16\",\"2014-04-17\",\"2014-04-21\",\"2014-04-22\",\"2014-04-23\",\"2014-04-24\",\"2014-04-25\",\"2014-04-28\",\"2014-04-29\",\"2014-04-30\",\"2014-05-02\",\"2014-05-05\",\"2014-05-06\",\"2014-05-07\",\"2014-05-08\",\"2014-05-09\",\"2014-05-12\",\"2014-05-14\",\"2014-05-15\",\"2014-05-16\",\"2014-05-19\",\"2014-05-20\",\"2014-05-21\",\"2014-05-22\",\"2014-05-23\",\"2014-05-26\",\"2014-05-27\",\"2014-05-28\",\"2014-05-29\",\"2014-05-30\",\"2014-06-02\",\"2014-06-03\",\"2014-06-04\",\"2014-06-05\",\"2014-06-06\",\"2014-06-09\",\"2014-06-10\",\"2014-06-11\",\"2014-06-12\",\"2014-06-13\",\"2014-06-16\",\"2014-06-17\",\"2014-06-18\",\"2014-06-19\",\"2014-06-20\",\"2014-06-23\",\"2014-06-24\",\"2014-06-25\",\"2014-06-26\",\"2014-06-27\",\"2014-06-30\",\"2014-07-01\",\"2014-07-02\",\"2014-07-03\",\"2014-07-04\",\"2014-07-07\",\"2014-07-08\",\"2014-07-09\",\"2014-07-10\",\"2014-07-11\",\"2014-07-14\",\"2014-07-16\",\"2014-07-17\",\"2014-07-18\",\"2014-07-21\",\"2014-07-22\",\"2014-07-23\",\"2014-07-24\",\"2014-07-25\",\"2014-07-30\",\"2014-07-31\",\"2014-08-01\",\"2014-08-04\",\"2014-08-05\",\"2014-08-06\",\"2014-08-07\",\"2014-08-08\",\"2014-08-11\",\"2014-08-12\",\"2014-08-13\",\"2014-08-14\",\"2014-08-15\",\"2014-08-18\",\"2014-08-19\",\"2014-08-20\",\"2014-08-21\",\"2014-08-22\",\"2014-08-25\",\"2014-08-26\",\"2014-08-27\",\"2014-08-28\",\"2014-08-29\",\"2014-09-02\",\"2014-09-03\",\"2014-09-04\",\"2014-09-05\",\"2014-09-08\",\"2014-09-09\",\"2014-09-10\",\"2014-09-11\",\"2014-09-12\",\"2014-09-15\",\"2014-09-17\",\"2014-09-18\",\"2014-09-19\",\"2014-09-22\",\"2014-09-23\",\"2014-09-24\",\"2014-09-25\",\"2014-09-26\",\"2014-09-29\",\"2014-09-30\",\"2014-10-01\",\"2014-10-02\",\"2014-10-03\",\"2014-10-07\",\"2014-10-08\",\"2014-10-09\",\"2014-10-10\",\"2014-10-13\",\"2014-10-14\",\"2014-10-15\",\"2014-10-16\",\"2014-10-17\",\"2014-10-20\",\"2014-10-21\",\"2014-10-23\",\"2014-10-24\",\"2014-10-27\",\"2014-10-28\",\"2014-10-29\",\"2014-10-30\",\"2014-10-31\",\"2014-11-03\",\"2014-11-04\",\"2014-11-05\",\"2014-11-06\",\"2014-11-07\",\"2014-11-10\",\"2014-11-11\",\"2014-11-12\",\"2014-11-13\",\"2014-11-14\",\"2014-11-17\",\"2014-11-18\",\"2014-11-19\",\"2014-11-20\",\"2014-11-21\",\"2014-11-24\",\"2014-11-25\",\"2014-11-26\",\"2014-11-27\",\"2014-11-28\",\"2014-12-01\",\"2014-12-02\",\"2014-12-03\",\"2014-12-04\",\"2014-12-05\",\"2014-12-08\",\"2014-12-09\",\"2014-12-10\",\"2014-12-11\",\"2014-12-12\",\"2014-12-15\",\"2014-12-16\",\"2014-12-17\",\"2014-12-18\",\"2014-12-19\",\"2014-12-22\",\"2014-12-23\",\"2014-12-24\",\"2014-12-26\",\"2014-12-29\",\"2014-12-30\",\"2014-12-31\",\"2015-01-02\",\"2015-01-05\",\"2015-01-06\",\"2015-01-07\",\"2015-01-08\",\"2015-01-09\",\"2015-01-12\",\"2015-01-13\",\"2015-01-14\",\"2015-01-15\",\"2015-01-16\",\"2015-01-19\",\"2015-01-20\",\"2015-01-21\",\"2015-01-22\",\"2015-01-23\",\"2015-01-26\",\"2015-01-27\",\"2015-01-28\",\"2015-01-29\",\"2015-01-30\",\"2015-02-04\",\"2015-02-05\",\"2015-02-06\",\"2015-02-09\",\"2015-02-10\",\"2015-02-11\",\"2015-02-12\",\"2015-02-13\",\"2015-02-16\",\"2015-02-17\",\"2015-02-23\",\"2015-02-24\",\"2015-02-25\",\"2015-02-26\",\"2015-02-27\",\"2015-03-02\",\"2015-03-03\",\"2015-03-04\",\"2015-03-05\",\"2015-03-06\",\"2015-03-09\",\"2015-03-10\",\"2015-03-11\",\"2015-03-12\",\"2015-03-13\",\"2015-03-16\",\"2015-03-17\",\"2015-03-18\",\"2015-03-19\",\"2015-03-20\",\"2015-03-23\",\"2015-03-24\",\"2015-03-25\",\"2015-03-26\",\"2015-03-27\",\"2015-03-30\",\"2015-03-31\",\"2015-04-01\",\"2015-04-02\",\"2015-04-06\",\"2015-04-07\",\"2015-04-08\",\"2015-04-09\",\"2015-04-10\",\"2015-04-13\",\"2015-04-14\",\"2015-04-15\",\"2015-04-16\",\"2015-04-17\",\"2015-04-20\",\"2015-04-21\",\"2015-04-22\",\"2015-04-23\",\"2015-04-24\",\"2015-04-27\",\"2015-04-28\",\"2015-04-29\",\"2015-04-30\",\"2015-05-05\",\"2015-05-06\",\"2015-05-07\",\"2015-05-08\",\"2015-05-11\",\"2015-05-12\",\"2015-05-13\",\"2015-05-14\",\"2015-05-15\",\"2015-05-18\",\"2015-05-19\",\"2015-05-20\",\"2015-05-21\",\"2015-05-22\",\"2015-05-25\",\"2015-05-26\",\"2015-05-27\",\"2015-05-28\",\"2015-05-29\",\"2015-06-01\",\"2015-06-02\",\"2015-06-03\",\"2015-06-04\",\"2015-06-05\",\"2015-06-08\",\"2015-06-09\",\"2015-06-10\",\"2015-06-11\",\"2015-06-12\",\"2015-06-15\",\"2015-06-16\",\"2015-06-17\",\"2015-06-18\",\"2015-06-19\",\"2015-06-22\",\"2015-06-23\",\"2015-06-24\",\"2015-06-25\",\"2015-06-26\",\"2015-06-29\",\"2015-06-30\",\"2015-07-01\",\"2015-07-02\",\"2015-07-03\",\"2015-07-06\",\"2015-07-07\",\"2015-07-08\",\"2015-07-09\",\"2015-07-10\",\"2015-07-13\",\"2015-07-14\",\"2015-07-15\",\"2015-07-16\",\"2015-07-20\",\"2015-07-21\",\"2015-07-22\",\"2015-07-23\",\"2015-07-24\",\"2015-07-27\",\"2015-07-28\",\"2015-07-29\",\"2015-07-30\",\"2015-07-31\",\"2015-08-03\",\"2015-08-04\",\"2015-08-05\",\"2015-08-06\",\"2015-08-07\",\"2015-08-10\",\"2015-08-11\",\"2015-08-12\",\"2015-08-13\",\"2015-08-14\",\"2015-08-17\",\"2015-08-18\",\"2015-08-19\",\"2015-08-20\",\"2015-08-21\",\"2015-08-24\",\"2015-08-25\",\"2015-08-26\",\"2015-08-27\",\"2015-08-28\",\"2015-09-01\",\"2015-09-02\",\"2015-09-03\",\"2015-09-04\",\"2015-09-07\",\"2015-09-08\",\"2015-09-09\",\"2015-09-10\",\"2015-09-11\",\"2015-09-14\",\"2015-09-15\",\"2015-09-17\",\"2015-09-18\",\"2015-09-21\",\"2015-09-22\",\"2015-09-23\",\"2015-09-25\",\"2015-09-28\",\"2015-09-29\",\"2015-09-30\",\"2015-10-01\",\"2015-10-02\",\"2015-10-05\",\"2015-10-06\",\"2015-10-07\",\"2015-10-08\",\"2015-10-09\",\"2015-10-12\",\"2015-10-13\",\"2015-10-15\",\"2015-10-16\",\"2015-10-19\",\"2015-10-20\",\"2015-10-21\",\"2015-10-22\",\"2015-10-23\",\"2015-10-26\",\"2015-10-27\",\"2015-10-28\",\"2015-10-29\",\"2015-10-30\",\"2015-11-02\",\"2015-11-03\",\"2015-11-04\",\"2015-11-05\",\"2015-11-06\",\"2015-11-09\",\"2015-11-11\",\"2015-11-12\",\"2015-11-13\",\"2015-11-16\",\"2015-11-17\",\"2015-11-18\",\"2015-11-19\",\"2015-11-20\",\"2015-11-23\",\"2015-11-24\",\"2015-11-25\",\"2015-11-26\",\"2015-11-27\",\"2015-11-30\",\"2015-12-01\",\"2015-12-02\",\"2015-12-03\",\"2015-12-04\",\"2015-12-07\",\"2015-12-08\",\"2015-12-09\",\"2015-12-10\",\"2015-12-11\",\"2015-12-14\",\"2015-12-15\",\"2015-12-16\",\"2015-12-17\",\"2015-12-18\",\"2015-12-21\",\"2015-12-22\",\"2015-12-23\",\"2015-12-28\",\"2015-12-29\",\"2015-12-30\",\"2015-12-31\",\"2016-01-04\",\"2016-01-05\",\"2016-01-06\",\"2016-01-07\",\"2016-01-08\",\"2016-01-11\",\"2016-01-12\",\"2016-01-13\",\"2016-01-14\",\"2016-01-15\",\"2016-01-18\",\"2016-01-19\",\"2016-01-20\",\"2016-01-21\",\"2016-01-22\",\"2016-01-26\",\"2016-01-27\",\"2016-01-28\",\"2016-01-29\",\"2016-02-02\",\"2016-02-03\",\"2016-02-04\",\"2016-02-05\",\"2016-02-10\",\"2016-02-11\",\"2016-02-12\",\"2016-02-15\",\"2016-02-16\",\"2016-02-17\",\"2016-02-18\",\"2016-02-19\",\"2016-02-22\",\"2016-02-23\",\"2016-02-24\",\"2016-02-25\",\"2016-02-26\",\"2016-02-29\",\"2016-03-01\",\"2016-03-02\",\"2016-03-03\",\"2016-03-04\",\"2016-03-07\",\"2016-03-08\",\"2016-03-09\",\"2016-03-10\",\"2016-03-11\",\"2016-03-14\",\"2016-03-15\",\"2016-03-16\",\"2016-03-17\",\"2016-03-18\",\"2016-03-21\",\"2016-03-22\",\"2016-03-23\",\"2016-03-24\",\"2016-03-28\",\"2016-03-29\",\"2016-03-30\",\"2016-03-31\",\"2016-04-01\",\"2016-04-04\",\"2016-04-05\",\"2016-04-06\",\"2016-04-07\",\"2016-04-08\",\"2016-04-11\",\"2016-04-12\",\"2016-04-13\",\"2016-04-14\",\"2016-04-15\",\"2016-04-18\",\"2016-04-19\",\"2016-04-20\",\"2016-04-21\",\"2016-04-22\",\"2016-04-25\",\"2016-04-26\",\"2016-04-27\",\"2016-04-28\",\"2016-04-29\",\"2016-05-03\",\"2016-05-04\",\"2016-05-05\",\"2016-05-06\",\"2016-05-09\",\"2016-05-10\",\"2016-05-11\",\"2016-05-12\",\"2016-05-13\",\"2016-05-16\",\"2016-05-17\",\"2016-05-18\",\"2016-05-19\",\"2016-05-20\",\"2016-05-23\",\"2016-05-24\",\"2016-05-25\",\"2016-05-26\",\"2016-05-27\",\"2016-05-30\",\"2016-05-31\",\"2016-06-01\",\"2016-06-02\",\"2016-06-03\",\"2016-06-06\",\"2016-06-07\",\"2016-06-08\",\"2016-06-09\",\"2016-06-10\",\"2016-06-13\",\"2016-06-14\",\"2016-06-15\",\"2016-06-16\",\"2016-06-17\",\"2016-06-20\",\"2016-06-21\",\"2016-06-23\",\"2016-06-24\",\"2016-06-27\",\"2016-06-28\",\"2016-06-29\",\"2016-06-30\",\"2016-07-01\",\"2016-07-04\",\"2016-07-05\",\"2016-07-11\",\"2016-07-12\",\"2016-07-13\",\"2016-07-14\",\"2016-07-15\",\"2016-07-18\",\"2016-07-19\",\"2016-07-20\",\"2016-07-21\",\"2016-07-22\",\"2016-07-25\",\"2016-07-26\",\"2016-07-27\",\"2016-07-28\",\"2016-07-29\",\"2016-08-01\",\"2016-08-02\",\"2016-08-03\",\"2016-08-04\",\"2016-08-05\",\"2016-08-08\",\"2016-08-09\",\"2016-08-10\",\"2016-08-11\",\"2016-08-12\",\"2016-08-15\",\"2016-08-16\",\"2016-08-17\",\"2016-08-18\",\"2016-08-19\",\"2016-08-22\",\"2016-08-23\",\"2016-08-24\",\"2016-08-25\",\"2016-08-26\",\"2016-08-29\",\"2016-08-30\",\"2016-09-01\",\"2016-09-02\",\"2016-09-05\",\"2016-09-06\",\"2016-09-07\",\"2016-09-08\",\"2016-09-09\",\"2016-09-13\",\"2016-09-14\",\"2016-09-15\",\"2016-09-19\",\"2016-09-20\",\"2016-09-21\",\"2016-09-22\",\"2016-09-23\",\"2016-09-26\",\"2016-09-27\",\"2016-09-28\",\"2016-09-29\",\"2016-09-30\",\"2016-10-04\",\"2016-10-05\",\"2016-10-06\",\"2016-10-07\",\"2016-10-10\",\"2016-10-11\",\"2016-10-12\",\"2016-10-13\",\"2016-10-14\",\"2016-10-17\",\"2016-10-18\",\"2016-10-19\",\"2016-10-20\",\"2016-10-21\",\"2016-10-24\",\"2016-10-25\",\"2016-10-26\",\"2016-10-27\",\"2016-10-28\",\"2016-10-31\",\"2016-11-01\",\"2016-11-02\",\"2016-11-03\",\"2016-11-04\",\"2016-11-07\",\"2016-11-08\",\"2016-11-09\",\"2016-11-10\",\"2016-11-11\",\"2016-11-14\",\"2016-11-15\",\"2016-11-16\",\"2016-11-17\",\"2016-11-18\",\"2016-11-21\",\"2016-11-22\",\"2016-11-23\",\"2016-11-24\",\"2016-11-25\",\"2016-11-28\",\"2016-11-29\",\"2016-11-30\",\"2016-12-01\",\"2016-12-02\",\"2016-12-05\",\"2016-12-06\",\"2016-12-07\",\"2016-12-08\",\"2016-12-09\",\"2016-12-13\",\"2016-12-14\",\"2016-12-15\",\"2016-12-16\",\"2016-12-19\",\"2016-12-20\",\"2016-12-21\",\"2016-12-22\",\"2016-12-23\",\"2016-12-27\",\"2016-12-28\",\"2016-12-29\",\"2016-12-30\",\"2017-01-03\",\"2017-01-04\",\"2017-01-05\",\"2017-01-06\",\"2017-01-09\",\"2017-01-10\",\"2017-01-11\",\"2017-01-12\",\"2017-01-13\",\"2017-01-16\",\"2017-01-17\",\"2017-01-18\",\"2017-01-19\",\"2017-01-20\",\"2017-01-23\",\"2017-01-24\",\"2017-01-25\",\"2017-01-26\",\"2017-01-27\",\"2017-01-31\",\"2017-02-02\",\"2017-02-03\",\"2017-02-06\",\"2017-02-07\",\"2017-02-08\",\"2017-02-10\",\"2017-02-13\",\"2017-02-14\",\"2017-02-15\",\"2017-02-16\",\"2017-02-17\",\"2017-02-20\",\"2017-02-21\",\"2017-02-22\",\"2017-02-23\",\"2017-02-24\",\"2017-02-27\",\"2017-02-28\",\"2017-03-01\",\"2017-03-02\",\"2017-03-03\",\"2017-03-06\",\"2017-03-07\",\"2017-03-08\",\"2017-03-09\",\"2017-03-10\",\"2017-03-13\",\"2017-03-14\",\"2017-03-15\",\"2017-03-16\",\"2017-03-17\",\"2017-03-20\",\"2017-03-21\",\"2017-03-22\",\"2017-03-23\",\"2017-03-24\",\"2017-03-27\",\"2017-03-28\",\"2017-03-29\",\"2017-03-30\",\"2017-03-31\",\"2017-04-03\",\"2017-04-04\",\"2017-04-05\",\"2017-04-06\",\"2017-04-07\",\"2017-04-10\",\"2017-04-11\",\"2017-04-12\",\"2017-04-13\",\"2017-04-17\",\"2017-04-18\",\"2017-04-19\",\"2017-04-20\",\"2017-04-21\",\"2017-04-25\",\"2017-04-26\",\"2017-04-27\",\"2017-04-28\",\"2017-05-02\",\"2017-05-03\",\"2017-05-04\",\"2017-05-05\",\"2017-05-08\",\"2017-05-09\",\"2017-05-11\",\"2017-05-12\",\"2017-05-15\",\"2017-05-16\",\"2017-05-17\",\"2017-05-18\",\"2017-05-19\",\"2017-05-22\",\"2017-05-23\",\"2017-05-24\",\"2017-05-25\",\"2017-05-26\",\"2017-05-29\",\"2017-05-30\",\"2017-05-31\",\"2017-06-01\",\"2017-06-02\",\"2017-06-05\",\"2017-06-06\",\"2017-06-07\",\"2017-06-08\",\"2017-06-09\",\"2017-06-13\",\"2017-06-14\",\"2017-06-15\",\"2017-06-16\",\"2017-06-19\",\"2017-06-20\",\"2017-06-21\",\"2017-06-22\",\"2017-06-23\",\"2017-06-28\",\"2017-06-29\",\"2017-06-30\",\"2017-07-03\",\"2017-07-04\",\"2017-07-05\",\"2017-07-06\",\"2017-07-07\",\"2017-07-10\",\"2017-07-11\",\"2017-07-12\",\"2017-07-13\",\"2017-07-14\",\"2017-07-17\",\"2017-07-18\",\"2017-07-19\",\"2017-07-20\",\"2017-07-21\",\"2017-07-24\",\"2017-07-25\",\"2017-07-26\",\"2017-07-27\",\"2017-07-28\",\"2017-07-31\",\"2017-08-01\",\"2017-08-02\",\"2017-08-03\",\"2017-08-04\",\"2017-08-07\",\"2017-08-08\",\"2017-08-09\",\"2017-08-10\",\"2017-08-11\",\"2017-08-14\",\"2017-08-15\",\"2017-08-16\",\"2017-08-17\",\"2017-08-18\",\"2017-08-21\",\"2017-08-22\",\"2017-08-23\",\"2017-08-24\",\"2017-08-25\",\"2017-08-28\",\"2017-08-29\",\"2017-08-30\",\"2017-09-05\",\"2017-09-06\",\"2017-09-07\",\"2017-09-08\",\"2017-09-11\",\"2017-09-12\",\"2017-09-13\",\"2017-09-14\",\"2017-09-15\",\"2017-09-18\",\"2017-09-19\",\"2017-09-20\",\"2017-09-21\",\"2017-09-25\",\"2017-09-26\",\"2017-09-27\",\"2017-09-28\",\"2017-09-29\",\"2017-10-02\",\"2017-10-03\",\"2017-10-04\",\"2017-10-05\",\"2017-10-06\",\"2017-10-09\",\"2017-10-10\",\"2017-10-11\",\"2017-10-12\",\"2017-10-13\",\"2017-10-16\",\"2017-10-17\",\"2017-10-19\",\"2017-10-20\",\"2017-10-23\",\"2017-10-24\",\"2017-10-25\",\"2017-10-26\",\"2017-10-27\",\"2017-10-30\",\"2017-10-31\",\"2017-11-01\",\"2017-11-02\",\"2017-11-03\",\"2017-11-06\",\"2017-11-07\",\"2017-11-08\",\"2017-11-09\",\"2017-11-10\",\"2017-11-13\",\"2017-11-14\",\"2017-11-15\",\"2017-11-16\",\"2017-11-17\",\"2017-11-20\",\"2017-11-21\",\"2017-11-22\",\"2017-11-23\",\"2017-11-24\",\"2017-11-27\",\"2017-11-28\",\"2017-11-29\",\"2017-11-30\",\"2017-12-04\",\"2017-12-05\",\"2017-12-06\",\"2017-12-07\",\"2017-12-08\",\"2017-12-11\",\"2017-12-12\",\"2017-12-13\",\"2017-12-14\",\"2017-12-15\",\"2017-12-18\",\"2017-12-19\",\"2017-12-20\",\"2017-12-21\",\"2017-12-22\",\"2017-12-26\",\"2017-12-27\",\"2017-12-28\",\"2017-12-29\",\"2018-01-02\",\"2018-01-03\",\"2018-01-04\",\"2018-01-05\",\"2018-01-08\",\"2018-01-09\",\"2018-01-10\",\"2018-01-11\",\"2018-01-12\",\"2018-01-15\",\"2018-01-16\",\"2018-01-17\",\"2018-01-18\",\"2018-01-19\",\"2018-01-22\",\"2018-01-23\",\"2018-01-24\",\"2018-01-25\",\"2018-01-26\",\"2018-01-29\",\"2018-01-30\",\"2018-02-02\",\"2018-02-05\",\"2018-02-06\",\"2018-02-07\",\"2018-02-08\",\"2018-02-09\",\"2018-02-12\",\"2018-02-13\",\"2018-02-14\",\"2018-02-15\",\"2018-02-19\",\"2018-02-20\",\"2018-02-21\",\"2018-02-22\",\"2018-02-23\",\"2018-02-26\",\"2018-02-27\",\"2018-02-28\",\"2018-03-01\",\"2018-03-02\",\"2018-03-05\",\"2018-03-06\",\"2018-03-07\",\"2018-03-08\",\"2018-03-09\",\"2018-03-12\",\"2018-03-13\",\"2018-03-14\",\"2018-03-15\",\"2018-03-16\",\"2018-03-19\",\"2018-03-20\",\"2018-03-21\",\"2018-03-22\",\"2018-03-23\",\"2018-03-26\",\"2018-03-27\",\"2018-03-28\",\"2018-03-29\",\"2018-04-02\",\"2018-04-03\",\"2018-04-04\",\"2018-04-05\",\"2018-04-06\",\"2018-04-09\",\"2018-04-10\",\"2018-04-11\",\"2018-04-12\",\"2018-04-13\",\"2018-04-16\",\"2018-04-17\",\"2018-04-18\",\"2018-04-19\",\"2018-04-20\",\"2018-04-23\",\"2018-04-24\",\"2018-04-25\",\"2018-04-26\",\"2018-04-27\",\"2018-04-30\",\"2018-05-02\",\"2018-05-03\",\"2018-05-04\",\"2018-05-07\",\"2018-05-08\",\"2018-05-14\",\"2018-05-15\",\"2018-05-16\",\"2018-05-17\",\"2018-05-18\",\"2018-05-21\",\"2018-05-22\",\"2018-05-23\",\"2018-05-24\",\"2018-05-25\",\"2018-05-28\",\"2018-05-30\",\"2018-05-31\",\"2018-06-01\",\"2018-06-04\",\"2018-06-05\",\"2018-06-06\",\"2018-06-07\",\"2018-06-08\",\"2018-06-11\",\"2018-06-12\",\"2018-06-13\",\"2018-06-14\",\"2018-06-18\",\"2018-06-19\",\"2018-06-20\",\"2018-06-21\",\"2018-06-22\",\"2018-06-25\",\"2018-06-26\",\"2018-06-27\",\"2018-06-28\",\"2018-06-29\",\"2018-07-02\",\"2018-07-03\",\"2018-07-04\",\"2018-07-05\",\"2018-07-06\",\"2018-07-09\",\"2018-07-10\",\"2018-07-11\",\"2018-07-12\",\"2018-07-13\",\"2018-07-16\",\"2018-07-17\",\"2018-07-18\",\"2018-07-19\",\"2018-07-20\",\"2018-07-23\",\"2018-07-24\",\"2018-07-25\",\"2018-07-26\",\"2018-07-27\",\"2018-07-30\",\"2018-07-31\",\"2018-08-01\",\"2018-08-02\",\"2018-08-03\",\"2018-08-06\",\"2018-08-07\",\"2018-08-08\",\"2018-08-09\",\"2018-08-10\",\"2018-08-13\",\"2018-08-14\",\"2018-08-15\",\"2018-08-16\",\"2018-08-17\",\"2018-08-20\",\"2018-08-21\",\"2018-08-23\",\"2018-08-24\",\"2018-08-27\",\"2018-08-28\",\"2018-08-29\",\"2018-08-30\",\"2018-09-03\",\"2018-09-04\",\"2018-09-05\",\"2018-09-06\",\"2018-09-07\",\"2018-09-12\",\"2018-09-13\",\"2018-09-14\",\"2018-09-18\",\"2018-09-19\",\"2018-09-20\",\"2018-09-21\",\"2018-09-24\",\"2018-09-25\",\"2018-09-26\",\"2018-09-27\",\"2018-09-28\",\"2018-10-01\",\"2018-10-02\",\"2018-10-03\",\"2018-10-04\",\"2018-10-05\",\"2018-10-08\",\"2018-10-09\",\"2018-10-10\",\"2018-10-11\",\"2018-10-12\",\"2018-10-15\",\"2018-10-16\",\"2018-10-17\",\"2018-10-18\",\"2018-10-19\",\"2018-10-22\",\"2018-10-23\",\"2018-10-24\",\"2018-10-25\",\"2018-10-26\",\"2018-10-29\",\"2018-10-30\",\"2018-10-31\",\"2018-11-01\",\"2018-11-02\",\"2018-11-05\",\"2018-11-07\",\"2018-11-08\",\"2018-11-09\",\"2018-11-12\",\"2018-11-13\",\"2018-11-14\",\"2018-11-15\",\"2018-11-16\",\"2018-11-19\",\"2018-11-21\",\"2018-11-22\",\"2018-11-23\",\"2018-11-26\",\"2018-11-27\",\"2018-11-28\",\"2018-11-29\",\"2018-11-30\",\"2018-12-03\",\"2018-12-04\",\"2018-12-05\",\"2018-12-06\",\"2018-12-07\",\"2018-12-10\",\"2018-12-11\",\"2018-12-12\",\"2018-12-13\",\"2018-12-14\",\"2018-12-17\",\"2018-12-18\",\"2018-12-19\",\"2018-12-20\",\"2018-12-21\",\"2018-12-24\",\"2018-12-26\",\"2018-12-27\",\"2018-12-28\",\"2018-12-31\",\"2019-01-02\",\"2019-01-03\",\"2019-01-04\",\"2019-01-07\",\"2019-01-08\",\"2019-01-09\",\"2019-01-10\",\"2019-01-11\",\"2019-01-14\",\"2019-01-15\",\"2019-01-16\",\"2019-01-17\",\"2019-01-18\",\"2019-01-22\",\"2019-01-23\",\"2019-01-24\",\"2019-01-25\",\"2019-01-28\",\"2019-01-29\",\"2019-01-30\",\"2019-01-31\",\"2019-02-04\",\"2019-02-07\",\"2019-02-08\",\"2019-02-11\",\"2019-02-12\",\"2019-02-13\",\"2019-02-14\",\"2019-02-15\",\"2019-02-18\",\"2019-02-19\",\"2019-02-20\",\"2019-02-21\",\"2019-02-22\",\"2019-02-25\",\"2019-02-26\",\"2019-02-27\",\"2019-02-28\",\"2019-03-01\",\"2019-03-04\",\"2019-03-05\",\"2019-03-06\",\"2019-03-07\",\"2019-03-08\",\"2019-03-11\",\"2019-03-12\",\"2019-03-13\",\"2019-03-14\",\"2019-03-15\",\"2019-03-18\",\"2019-03-19\",\"2019-03-20\",\"2019-03-21\",\"2019-03-22\",\"2019-03-25\",\"2019-03-26\",\"2019-03-27\",\"2019-03-28\",\"2019-03-29\",\"2019-04-01\",\"2019-04-02\",\"2019-04-03\",\"2019-04-04\",\"2019-04-05\",\"2019-04-08\",\"2019-04-09\",\"2019-04-10\",\"2019-04-11\",\"2019-04-12\",\"2019-04-15\",\"2019-04-16\",\"2019-04-17\",\"2019-04-18\",\"2019-04-22\",\"2019-04-23\",\"2019-04-24\",\"2019-04-25\",\"2019-04-26\",\"2019-04-29\",\"2019-04-30\",\"2019-05-02\",\"2019-05-03\",\"2019-05-06\",\"2019-05-07\",\"2019-05-08\",\"2019-05-09\",\"2019-05-10\",\"2019-05-13\",\"2019-05-14\",\"2019-05-15\",\"2019-05-16\",\"2019-05-17\",\"2019-05-21\",\"2019-05-23\",\"2019-05-24\",\"2019-05-27\",\"2019-05-28\",\"2019-05-29\",\"2019-05-30\",\"2019-05-31\",\"2019-06-03\",\"2019-06-04\",\"2019-06-07\",\"2019-06-10\",\"2019-06-11\",\"2019-06-12\",\"2019-06-13\",\"2019-06-14\",\"2019-06-17\",\"2019-06-18\",\"2019-06-19\",\"2019-06-20\",\"2019-06-21\",\"2019-06-24\",\"2019-06-25\",\"2019-06-26\",\"2019-06-27\",\"2019-06-28\",\"2019-07-01\",\"2019-07-02\",\"2019-07-03\",\"2019-07-04\",\"2019-07-05\",\"2019-07-08\",\"2019-07-09\",\"2019-07-10\",\"2019-07-11\",\"2019-07-12\",\"2019-07-15\",\"2019-07-16\",\"2019-07-17\",\"2019-07-18\",\"2019-07-19\",\"2019-07-22\",\"2019-07-23\",\"2019-07-24\",\"2019-07-25\",\"2019-07-26\",\"2019-07-29\",\"2019-07-31\",\"2019-08-01\",\"2019-08-02\",\"2019-08-05\",\"2019-08-06\",\"2019-08-07\",\"2019-08-08\",\"2019-08-09\",\"2019-08-13\",\"2019-08-14\",\"2019-08-15\",\"2019-08-16\",\"2019-08-19\",\"2019-08-20\",\"2019-08-21\",\"2019-08-22\",\"2019-08-23\",\"2019-08-26\",\"2019-08-27\",\"2019-08-28\",\"2019-08-29\",\"2019-08-30\",\"2019-09-03\",\"2019-09-04\",\"2019-09-05\",\"2019-09-06\",\"2019-09-10\",\"2019-09-11\",\"2019-09-12\",\"2019-09-13\",\"2019-09-17\",\"2019-09-18\",\"2019-09-19\",\"2019-09-20\",\"2019-09-23\",\"2019-09-24\",\"2019-09-25\",\"2019-09-26\",\"2019-09-27\",\"2019-09-30\",\"2019-10-01\",\"2019-10-02\",\"2019-10-03\",\"2019-10-04\",\"2019-10-07\",\"2019-10-08\",\"2019-10-09\",\"2019-10-10\",\"2019-10-11\",\"2019-10-14\",\"2019-10-15\",\"2019-10-16\",\"2019-10-17\",\"2019-10-18\",\"2019-10-21\",\"2019-10-22\",\"2019-10-23\",\"2019-10-24\",\"2019-10-25\",\"2019-10-29\",\"2019-10-30\",\"2019-10-31\",\"2019-11-01\",\"2019-11-04\",\"2019-11-05\",\"2019-11-06\",\"2019-11-07\",\"2019-11-08\",\"2019-11-11\",\"2019-11-12\",\"2019-11-13\",\"2019-11-14\",\"2019-11-15\",\"2019-11-18\",\"2019-11-19\",\"2019-11-20\",\"2019-11-21\",\"2019-11-22\",\"2019-11-25\",\"2019-11-26\",\"2019-11-27\",\"2019-11-28\",\"2019-11-29\",\"2019-12-02\",\"2019-12-03\",\"2019-12-04\",\"2019-12-05\",\"2019-12-06\",\"2019-12-09\",\"2019-12-10\",\"2019-12-11\",\"2019-12-12\",\"2019-12-13\",\"2019-12-16\",\"2019-12-17\",\"2019-12-18\",\"2019-12-19\",\"2019-12-20\",\"2019-12-23\",\"2019-12-24\",\"2019-12-26\",\"2019-12-27\",\"2019-12-30\",\"2019-12-31\",\"2020-01-02\",\"2020-01-03\",\"2020-01-06\",\"2020-01-07\",\"2020-01-08\",\"2020-01-09\",\"2020-01-10\",\"2020-01-13\",\"2020-01-14\",\"2020-01-15\",\"2020-01-16\",\"2020-01-17\",\"2020-01-20\",\"2020-01-21\",\"2020-01-22\",\"2020-01-23\",\"2020-01-28\",\"2020-01-29\",\"2020-01-30\",\"2020-01-31\",\"2020-02-03\",\"2020-02-04\",\"2020-02-05\",\"2020-02-06\",\"2020-02-07\",\"2020-02-10\",\"2020-02-11\",\"2020-02-12\",\"2020-02-13\",\"2020-02-14\",\"2020-02-17\",\"2020-02-18\",\"2020-02-19\",\"2020-02-20\",\"2020-02-21\",\"2020-02-24\",\"2020-02-25\",\"2020-02-26\",\"2020-02-27\",\"2020-02-28\",\"2020-03-02\",\"2020-03-03\",\"2020-03-04\",\"2020-03-05\",\"2020-03-06\",\"2020-03-09\",\"2020-03-10\",\"2020-03-11\",\"2020-03-12\",\"2020-03-13\",\"2020-03-16\",\"2020-03-17\",\"2020-03-18\",\"2020-03-19\",\"2020-03-20\",\"2020-03-23\",\"2020-03-24\",\"2020-03-25\",\"2020-03-26\",\"2020-03-27\",\"2020-03-30\",\"2020-03-31\",\"2020-04-01\",\"2020-04-02\",\"2020-04-03\",\"2020-04-06\",\"2020-04-07\",\"2020-04-08\",\"2020-04-09\",\"2020-04-13\",\"2020-04-14\",\"2020-04-15\",\"2020-04-16\",\"2020-04-17\",\"2020-04-20\",\"2020-04-21\",\"2020-04-22\",\"2020-04-23\",\"2020-04-24\",\"2020-04-27\",\"2020-04-28\",\"2020-04-29\",\"2020-04-30\",\"2020-05-04\",\"2020-05-05\",\"2020-05-06\",\"2020-05-08\",\"2020-05-12\",\"2020-05-13\",\"2020-05-14\"],\"y\":[606.0,613.5,620.5,627.5,631.0,635.5,643.0,646.5,653.5,660.0,660.0,665.0,673.5,687.5,692.0,689.0,689.0,687.5,683.5,681.0,682.0,685.0,689.0,688.5,686.5,684.0,686.5,692.5,700.0,706.5,711.5,717.0,722.0,726.5,727.5,732.0,734.5,737.5,735.0,735.5,734.5,737.5,740.0,739.5,739.0,738.0,736.0,732.5,732.0,732.0,730.5,728.5,727.5,725.5,727.0,732.0,736.0,740.5,740.0,738.5,739.5,741.0,746.5,749.5,750.0,753.5,756.0,758.0,761.5,766.5,766.0,762.0,766.0,766.0,767.0,766.0,763.0,760.5,755.0,749.5,744.5,738.5,730.5,722.0,712.5,704.5,700.0,696.5,692.5,686.5,681.0,675.5,676.0,680.5,684.5,688.5,695.0,703.5,712.5,715.5,718.0,720.0,718.5,717.0,714.0,708.5,706.5,705.5,704.5,705.5,709.5,713.0,714.5,713.0,713.5,710.5,706.0,703.0,702.0,705.0,705.5,701.5,699.0,699.5,699.5,699.0,699.5,702.0,703.0,701.0,697.5,693.5,689.5,688.0,687.5,688.0,689.0,687.0,687.0,689.5,689.5,688.5,690.5,690.0,689.0,691.5,692.0,693.0,693.5,695.0,695.5,694.5,690.5,688.5,686.5,686.0,687.0,688.5,690.0,689.5,689.0,689.5,691.0,695.0,697.0,699.0,700.5,701.5,702.0,703.5,704.0,704.5,705.5,707.0,708.5,709.5,712.5,717.0,721.0,723.0,725.5,727.0,727.5,730.5,733.5,734.0,735.5,737.0,739.5,742.0,743.5,750.5,758.5,767.0,774.5,775.5,779.0,777.5,778.0,778.5,782.0,787.0,789.5,788.5,788.5,786.0,789.5,794.5,800.0,811.0,828.0,840.0,848.5,853.5,848.5,853.5,858.5,866.0,871.5,872.5,869.0,872.5,873.5,873.0,879.0,884.5,891.5,898.0,905.0,911.5,918.5,924.0,932.0,941.5,948.0,948.5,950.0,958.0,967.0,974.5,977.5,980.5,981.5,983.0,979.0,976.0,976.0,978.0,979.5,975.0,975.0,973.0,976.5,980.5,990.5,994.5,1002.0,1006.5,1011.0,1018.5,1023.5,1025.5,1019.0,1015.5,1014.5,1013.0,1020.5,1030.0,1035.0,1039.5,1045.5,1052.0,1055.0,1063.5,1069.0,1079.5,1084.0,1080.5,1080.0,1081.0,1078.0,1074.5,1068.0,1063.0,1053.5,1042.5,1028.5,1009.0,992.0,972.5,939.0,852.0,852.0,862.0,878.0,902.0,945.0,981.5,1008.0,1031.5,1036.0,1029.5,1035.5,1047.5,1057.5,1060.0,1075.0,1084.0,1087.0,1087.5,1087.5,1084.5,1073.0,1062.0,1054.0,1043.5,1034.0,1022.0,1019.0,1009.5,1000.0,996.0,980.5,975.5,968.5,963.5,956.0,946.5,937.0,940.5,938.5,934.0,931.5,936.0,938.0,939.5,940.0,940.0,935.5,940.5,946.0,946.0,945.5,943.5,943.0,935.5,937.5,940.0,940.5,936.5,933.5,932.0,930.5,928.0,931.5,934.5,939.0,940.5,935.0,929.0,918.0,908.0,897.0,888.0,869.0,861.0,850.0,846.0,854.0,861.0,873.0,878.5,884.0,872.0,867.5,870.5,874.0,882.0,882.0,887.5,892.0,887.5,881.5,876.5,880.5,881.5,877.0,876.5,875.5,875.5,879.5,877.0,870.0,859.0,846.0,841.0,842.0,845.0,849.0,853.0,855.5,851.5,852.5,855.0,858.0,860.0,858.5,861.5,857.0,851.0,852.0,858.0,861.5,860.0,858.5,861.0,865.5,869.0,869.5,869.0,868.0,861.5,854.5,844.0,844.0,825.0,807.5,807.0,802.0,804.5,808.5,815.5,819.5,823.0,824.0,824.5,818.0,819.5,818.0,811.0,795.0,791.0,790.0,793.5,792.5,785.5,777.5,768.0,758.0,758.0,751.0,745.0,726.5,694.0,649.5,639.5,648.5,653.5,674.0,685.0,683.5,668.0,662.0,664.5,668.5,674.0,676.5,680.5,682.0,678.5,676.0,680.0,688.5,690.0,684.0,678.5,672.5,669.5,663.5,660.5,657.5,661.5,661.0,657.0,654.5,650.5,649.0,638.5,633.0,634.0,632.0,630.5,629.0,626.5,629.0,636.5,647.0,652.0,661.0,675.0,688.0,701.0,719.0,734.5,739.5,740.5,746.0,753.5,755.5,762.0,769.5,770.5,771.5,773.0,775.0,775.0,774.5,778.5,780.0,786.0,789.0,791.5,791.0,787.0,785.0,785.0,785.0,783.5,781.5,776.5,775.5,778.0,780.5,780.5,784.5,786.0,787.5,786.0,785.0,784.5,784.0,783.0,784.5,787.0,785.5,782.0,778.5,778.5,778.5,776.5,773.5,773.0,773.5,767.0,757.0,746.5,741.5,737.5,740.5,740.0,737.5,733.5,730.5,730.0,733.0,737.5,741.5,744.5,742.5,739.0,738.5,733.0,726.5,722.0,716.0,705.0,703.5,701.0,702.5,705.5,716.5,718.5,714.5,710.5,710.5,710.5,711.0,706.0,698.0,687.0,679.0,669.0,667.5,662.0,658.5,656.0,654.5,654.0,656.0,661.5,668.5,669.0,667.0,659.5,657.5,656.0,655.5,653.5,648.5,649.5,650.5,652.5,654.5,656.5,650.5,647.5,644.0,637.0,635.0,639.0,647.0,646.0,647.0,652.0,647.0,639.5,631.0,629.0,632.5,637.5,632.5,623.0,615.5,607.5,598.5,593.5,586.5,572.5,557.0,548.5,536.5,528.0,524.0,531.0,545.0,557.0,558.5,561.5,567.0,569.5,568.5,566.5,566.0,560.0,558.5,558.0,561.0,568.5,576.0,579.5,587.0,595.0,599.5,602.5,606.5,608.5,609.5,613.0,614.5,617.5,620.5,624.0,632.0,634.0,638.5,636.5,635.0,638.5,637.0,633.5,626.0,619.5,615.5,614.5,614.0,605.0,597.0,590.0,589.5,590.5,586.0,579.5,575.5,572.0,564.5,557.5,555.0,552.0,548.5,548.0,549.5,555.0,560.5,564.0,567.5,570.5,570.0,567.5,564.5,561.0,557.5,558.5,564.0,569.5,572.5,576.0,574.0,574.0,572.5,570.0,568.5,570.0,576.0,579.5,582.0,579.0,575.5,574.5,578.5,586.5,595.0,602.0,603.0,606.0,608.5,614.0,613.0,615.0,618.5,622.0,621.0,620.5,617.5,615.0,616.0,616.5,614.5,613.5,612.5,613.5,612.5,611.0,613.0,615.0,617.0,618.5,619.0,619.0,618.0,616.0,617.5,617.5,616.5,613.0,613.5,614.0,611.5,609.0,611.5,611.0,609.0,612.0,612.0,614.0,616.5,621.0,620.5,617.5,611.5,612.0,610.0,610.5,611.0,614.5,614.0,613.5,612.0,612.0,610.5,607.0,602.0,599.5,594.0,589.0,586.0,589.0,589.5,589.0,588.0,580.5,573.5,571.0,567.0,562.0,562.0,563.0,566.5,572.0,577.5,578.0,581.5,581.5,580.0,580.0,580.5,579.0,579.0,584.0,587.0,586.5,585.5,584.5,584.5,587.0,588.5,591.0,589.0,585.5,584.5,584.5,582.0,580.5,577.5,573.5,568.0,563.0,557.0,552.0,550.0,545.0,537.5,535.5,536.0,538.5,544.0,550.5,551.5,550.0,548.5,544.5,540.0,536.5,534.0,530.5,530.5,528.0,527.5,525.0,523.0,519.0,518.5,519.5,517.5,515.0,517.0,521.0,524.5,526.0,528.5,528.5,528.0,526.5,520.5,518.0,514.5,513.5,514.0,512.5,509.5,509.5,515.5,524.5,528.0,528.5,528.0,529.5,530.5,528.0,529.5,531.0,533.0,539.0,543.5,545.0,548.0,548.5,552.5,555.0,555.0,556.5,560.5,563.0,564.0,563.5,562.0,562.5,561.0,560.5,557.0,554.0,551.5,548.5,547.0,544.5,541.0,539.5,536.0,534.5,531.5,529.0,530.5,531.5,529.5,531.0,531.0,531.0,531.5,529.0,528.5,528.5,526.0,523.5,522.5,520.0,520.0,521.0,520.5,519.0,520.5,518.5,517.0,516.5,517.0,515.0,514.0,513.5,514.5,512.5,510.0,509.0,507.5,507.5,508.5,507.5,506.5,506.5,508.0,513.0,514.0,514.5,516.5,518.5,523.0,528.0,532.0,536.5,541.5,545.0,548.5,549.0,549.0,550.0,550.0,549.0,549.5,547.5,542.5,536.0,530.5,517.5,504.0,497.0,489.5,485.0,480.5,476.5,475.0,478.0,480.0,481.0,483.5,484.5,482.5,476.5,471.5,466.5,462.5,461.0,458.0,454.5,453.0,456.5,460.0,461.0,462.0,463.0,465.5,472.0,477.5,479.0,480.5,479.5,478.5,478.5,476.5,477.5,476.0,475.5,479.5,482.0,484.5,482.0,485.0,489.5,492.0,493.5,494.5,492.0,492.5,494.0,495.0,496.5,498.0,500.0,500.0,499.5,499.0,498.5,498.0,495.5,495.5,494.5,494.0,493.0,486.0,483.0,479.0,476.0,473.5,471.0,463.0,456.5,453.5,452.0,451.0,450.0,451.0,451.0,452.0,455.0,456.0,456.0,455.0,453.0,452.0,454.0,455.0,456.0,457.0,458.0,460.0,461.0,462.5,461.0,462.5,463.0,463.5,463.0,460.0,459.0,458.5,457.0,457.5,457.0,456.0,456.5,459.0,458.5,460.5,461.0,462.0,464.5,464.5,467.0,468.0,468.0,469.0,469.0,468.0,468.0,468.0,467.0,466.0,462.0,458.0,455.0,453.0,452.0,451.5,451.5,450.5,452.5,451.5,449.0,446.0,444.5,443.0,444.0,445.0,444.5,442.5,440.5,438.5,438.0,437.0,436.5,435.0,433.5,429.0,426.5,421.0,419.5,417.5,418.0,417.5,417.5,415.0,411.5,411.0,410.5,411.0,409.5,409.0,407.5,405.0,401.5,396.5,392.5,389.5,389.0,390.5,391.5,391.0,388.5,386.0,384.0,382.0,380.0,379.5,378.5,376.5,373.5,372.0,371.0,371.0,370.0,369.0,368.5,370.5,372.5,372.0,376.5,383.0,385.0,387.5,391.0,395.5,395.0,395.0,398.0,399.0,399.0,399.0,398.0,397.5,402.0,405.5,407.0,408.0,408.5,407.5,406.5,403.0,396.5,393.5,391.0,388.5,386.5,384.5,381.5,379.0,374.0,371.0,369.0,366.0,359.5,357.5,352.0,350.0,350.0,350.0,352.0,355.0,356.0,357.5,358.0,361.0,366.0,368.0,371.0,373.0,375.0,377.5,379.0,387.0,391.5,391.0,387.5,386.5,387.0,386.5,381.0,378.0,375.5,373.0,370.5,368.0,370.0,370.5,367.0,366.5,367.5,365.5,361.5,365.0,369.0,371.5,375.0,378.5,380.5,383.0,387.5,391.0,390.5,391.0,389.5,390.0,392.0,396.0,401.0,403.5,405.0,407.5,410.0,411.5,413.5,415.0,416.0,419.5,422.5,425.0,428.0,428.0,428.0,429.0,431.0,432.0,431.5,430.0,429.0,427.5,425.0,423.5,422.0,420.5,418.0,415.5,413.5,412.5,411.5,410.5,410.0,407.0,403.5,403.0,403.0,403.5,403.5,405.0,408.5,409.0,409.0,413.5,418.0,424.0,425.5,429.0,433.0,435.5,436.5,438.0,440.0,443.5,449.5,460.0,467.5,469.0,472.5,477.5,484.5,487.0,492.0,500.0,508.0,512.0,513.0,511.0,509.5,507.0,507.5,506.0,503.0,502.0,500.0,496.0,493.5,489.5,486.5,485.0,482.5,477.5,474.0,468.0,462.0,455.0,451.0,436.0,437.0,435.0,436.0,436.5,431.0,431.0,432.0,435.5,437.0,439.5,442.5,443.0,442.0,437.5,434.0,431.5,429.0,427.0,422.0,418.5,416.5,415.5,415.5,415.0,414.0,412.5,414.0,416.5,418.5,422.5,423.0,421.5,421.0,419.0,418.0,416.5,415.0,415.5,414.5,413.0,411.0,409.0,407.5,408.0,411.0,414.0,418.5,420.0,418.0,417.0,414.5,413.0,411.5,409.0,411.5,413.0,412.0,411.0,409.5,410.0,411.5,411.5,412.0,411.5,409.0,408.0,407.5,409.0,408.0,406.0,405.0,403.0,401.0,399.0,397.0,395.5,392.0,389.5,387.0,384.5,381.5,377.0,375.5,374.5,374.5,377.0,377.5,378.0,379.0,378.0,377.0,378.0,378.5,377.5,373.0,369.5,366.5,366.0,366.0,369.0,371.5,372.0,365.5,363.0,363.5,363.5,361.5,360.0,362.5,362.0,360.5,360.5,360.0,358.5,356.0,353.5,352.5,346.5,338.5,331.5,328.0,323.5,326.0,328.5,330.5,328.0,326.0,331.0,334.5,341.5,348.0,355.5,363.0,369.5,376.0,377.5,375.0,372.0,369.0,365.0,364.0,363.5,361.0,356.0,348.0,345.5,348.0,349.0,347.5,345.0,343.5,347.0,355.0,362.0,365.0,367.5,368.0,366.0,367.0,369.0,378.0,392.0,393.0,397.0,392.0,388.5,411.0,413.0,411.0,418.0,431.5,429.0,427.0,427.5,426.0,429.5,438.0,442.5,441.0,433.5,436.5,443.0,451.0,450.0,452.5,462.0,466.0,472.0,469.5,474.0,472.0,474.0,480.5,485.5,490.5,492.5,501.0,509.0,512.0,509.0,505.0,507.0,511.0,506.5,505.0,505.5,509.5,507.0,500.0,493.0,485.5,484.0,479.5,473.0,469.5,467.5,463.5,454.0,448.5,453.5,457.0,451.0,457.0,453.0,449.0,455.5,444.0,429.5,418.5,431.5,440.0,448.5,446.5,444.0,445.5,446.0,445.5,445.5,444.0,442.5,440.5,439.0,436.0,436.0,436.5,428.5,427.5,425.0,422.0,425.0,423.0,425.0,426.0,431.0,452.0,455.0,458.0,464.0,458.5,455.5,454.0,446.5,456.0,458.5,453.0,447.0,441.5,435.0,429.5,430.0,436.5,440.0,441.5,440.0,441.5,443.5,439.5,430.0,424.5,424.5,423.0,422.0,433.0,440.0,447.5,446.0,443.0,448.5,454.0,455.0,454.0,456.0,458.5,462.0,464.0,467.5,467.0,466.0,463.0,466.5,465.5,465.5,467.0,463.5,463.5,469.0,474.0,478.5,485.5,486.5,487.0,488.5,486.5,488.0,494.0,496.0,500.0,502.5,503.5,505.0,507.0,508.5,509.0,508.5,502.5,502.0,501.0,504.5,511.5,518.5,524.0,522.5,528.0,538.0,545.5,547.0,555.0,566.5,569.5,576.5,578.0,581.0,580.0,577.0,576.5,574.5,575.0,580.0,583.0,588.5,588.0,598.0,614.5,626.5,636.5,639.5,639.0,640.0,643.0,644.0,640.5,642.0,643.0,645.5,648.0,645.5,646.0,645.0,648.5,651.5,656.5,667.5,686.0,699.0,715.0,729.5,742.5,752.0,754.0,759.5,768.5,787.0,800.5,812.0,816.5,812.5,800.0,791.0,796.0,795.0,795.5,796.0,800.0,805.5,806.5,806.5,812.5,811.0,800.0,778.0,773.0,775.0,773.0,774.5,774.5,777.0,774.5,763.0,749.0,759.5,749.5,738.5,731.0,727.0,725.0,724.0,721.5,718.0,712.0,708.0,698.0,694.5,688.5,679.5,671.5,671.5,669.0,671.0,669.5,664.5,662.0,659.0,655.0,653.0,651.0,642.5,625.0,614.5,613.5,612.5,602.0,599.0,598.0,606.0,617.0,617.5,616.0,613.0,614.0,616.0,620.0,626.5,632.0,638.0,639.0,642.0,649.5,653.0,654.0,646.0,631.5,638.0,638.0,634.0,633.0,631.0,621.5,605.0,587.5,573.0,567.5,574.5,567.5,562.0,556.0,559.5,555.0,550.5,543.5,539.5,541.5,554.5,566.0,564.5,556.5,547.0,538.0,520.5,511.0,495.5,494.5,499.5,499.0,501.0,507.5,511.5,518.0,518.0,518.5,529.0,519.0,513.0,506.0,501.5,500.0,499.5,499.0,501.0,509.0,526.0,536.5,549.5,561.5,561.5,558.0,553.0,561.0,563.0,575.0,572.0,565.0,556.5,559.0,553.0,550.5,548.0,560.0,584.0,584.5,591.5,592.5,590.5,588.5,581.5,566.0,556.0,537.0,522.5,516.0,513.5,523.5,518.0,515.5,500.5,484.5,500.5,513.0,514.5,513.0,518.0,514.5,503.0,486.5,483.0,485.0,494.0,493.5,479.5,465.0,463.5,463.0,474.0,484.0,481.0,463.5,470.0,487.0,482.5,482.5,491.5,495.0,489.5,480.5,473.5,471.5,470.0,469.5,467.0,466.0,458.5,454.5,458.0,470.0,475.0,481.0,476.5,478.0,493.5,514.0,512.5,511.0,496.5,481.5,463.0,460.0,480.0,465.5,458.5,451.5,450.0,452.5,452.0,452.0,466.5,466.5,462.0,467.5,471.5,465.5,463.5,462.5,468.5,472.0,469.5,482.5,487.0,494.5,491.5,492.0,493.0,493.5,490.0,472.0,464.5,468.0,455.0,450.0,458.0,453.0,459.0,459.0,466.5,463.0,458.5,460.5,448.5,445.0,439.0,439.0,446.5,458.0,461.5,460.5,466.5,478.5,485.0,487.5,488.5,494.5,499.0,499.0,499.0,493.0,482.5,481.0,473.0,470.0,474.5,469.0,456.5,457.0,448.5,437.5,434.5,434.0,432.5,432.0,431.5,426.0,440.0,453.0,452.5,449.0,446.5,446.0,450.5,450.0,444.0,443.0,447.0,446.5,448.0,446.0,444.5,446.5,456.0,456.5,460.0,465.5,474.5,483.5,490.0,496.0,488.5,476.5,478.5,485.5,493.5,497.5,502.0,503.0,500.0,496.5,492.5,483.0,472.5,467.5,456.5,445.0,438.0,441.0,443.5,440.0,431.5,428.5,429.5,436.0,425.5,431.5,429.0,431.5,432.5,435.5,439.0,442.5,439.5,429.5,427.5,417.5,411.0,413.0,408.5,405.5,400.0,408.5,416.0,422.5,418.5,414.5,416.0,411.5,414.5,419.0,421.5,417.0,406.0,401.0,401.5,405.5,408.0,410.5,414.0,410.5,406.5,408.0,410.0,411.5,414.5,404.5,405.5,405.0,404.0,408.5,406.0,403.0,405.0,401.5,402.5,404.5,405.0,408.0,408.0,409.0,410.5,413.0,415.0,414.0,412.0,412.5,411.5,410.5,409.5,408.0,404.5,400.5,396.5,403.5,402.0,405.0,404.5,402.5,410.5,408.0,404.5,403.5,401.0,407.5,403.0,407.0,404.5,405.5,406.0,401.5,397.5,395.5,390.5,388.0,386.5,390.0,392.5,390.5,399.5,393.5,390.0,393.0,388.0,383.0,381.0,378.0,375.0,373.0,374.0,370.0,371.0,369.5,369.5,365.0,366.5,370.0,369.5,378.5,376.5,377.0,374.5,373.5,374.0,377.0,376.0,380.0,381.0,379.5,382.0,381.5,379.5,374.0,377.5,379.0,379.5,381.0,384.5,392.0,391.0,398.5,402.0,399.5,399.5,396.5,395.0,396.0,393.0,394.0,396.5,392.5,392.5,392.0,392.5,389.5,391.0,390.0,389.0,391.0,386.0,388.0,394.0,398.5,405.0,405.0,412.0,420.5,422.0,423.5,422.5,426.0,430.5,432.5,432.5,438.5,456.0,456.0,453.5,458.0,460.5,465.5,473.5,480.0,486.5,486.0,488.0,488.5,486.5,487.0,488.0,484.0,484.5,479.5,478.0,480.0,480.0,485.0,492.5,493.5,497.0,501.0,510.5,510.0,508.5,505.0,504.0,504.5,501.5,497.0,492.0,488.5,488.0,488.0,489.0,486.5,484.0,486.0,481.5,476.5,478.0,475.5,476.5,478.5,479.5,481.0,480.5,486.0,483.5,486.0,488.0,488.5,491.5,494.5,491.5,489.5,493.5,486.5,495.0,502.5,501.0,502.0,503.0,502.0,499.5,499.0,495.0,494.0,492.0,492.0,491.0,493.5,496.0,498.0,497.0,497.0,491.0,491.5,488.0,491.0,486.0,477.5,476.5,474.5,472.0,473.5,471.0,472.0,470.5,470.0,470.0,470.5,471.0,471.0,469.0,464.5,459.0,455.0,445.5,440.0,443.5,440.0,439.5,440.5,440.5,439.0,439.0,439.5,441.0,442.0,438.5,436.5,435.0,434.5,434.0,436.0,432.5,431.0,434.0,440.0,437.5,440.0,437.0,440.0,439.5,440.0,446.0,442.0,442.0,440.0,440.5,439.5,436.0,437.5,426.5,431.0,427.0,429.5,425.0,423.0,424.0,424.5,424.5,427.5,422.0,421.5,420.5,422.0,422.5,424.0,424.5,428.0,429.0,427.5,427.0,428.5,429.0,432.5,433.5,431.0,435.5,436.5,435.0,430.5,431.5,436.0,437.5,442.0,438.0,439.5,439.5,448.0,447.5,447.0,450.5,447.5,450.5,449.5,445.0,447.5,449.5,449.0,451.0,454.5,458.5,459.0,455.5,459.0,461.5,458.5,460.5,458.5,452.0,455.0,454.5,454.0,456.0,455.0,456.5,453.0,455.0,452.0,455.5,458.0,462.0,462.0,460.5,468.0,468.0,467.5,470.0,470.5,467.0,465.0,462.0,462.5,446.0,445.0,447.0,448.5,434.0,430.0,436.5,443.0,449.5,454.5,461.0,466.0,468.0,465.5,461.5,462.0,462.0,463.0,465.0,462.0,462.0,466.5,463.5,459.0,456.0,459.0,453.5,453.0,448.5,438.0,444.5,447.0,439.5,437.0,436.5,438.0,445.0,426.5,426.5,417.5,421.5,425.5,427.5,419.5,412.0,412.5,409.0,405.5,406.5,405.5,405.5,413.5,416.5,414.0,413.5,415.0,416.0,419.0,424.0,419.0,414.0,415.0,419.0,416.0,412.5,409.0,410.5,412.5,415.5,420.5,423.0,422.5,426.0,427.0],\"type\":\"scatter\"},{\"mode\":\"lines\",\"name\":\"Prediction\",\"x\":[\"2020-05-15\",\"2020-05-18\",\"2020-05-19\",\"2020-05-20\",\"2020-05-21\",\"2020-05-22\",\"2020-05-27\",\"2020-05-28\",\"2020-05-29\",\"2020-06-01\",\"2020-06-02\",\"2020-06-03\",\"2020-06-04\",\"2020-06-05\",\"2020-06-09\",\"2020-06-10\",\"2020-06-11\",\"2020-06-12\",\"2020-06-15\",\"2020-06-16\",\"2020-06-17\",\"2020-06-18\",\"2020-06-19\",\"2020-06-22\",\"2020-06-23\",\"2020-06-24\",\"2020-06-25\",\"2020-06-26\",\"2020-06-29\",\"2020-06-30\",\"2020-07-01\",\"2020-07-02\",\"2020-07-03\",\"2020-07-06\",\"2020-07-07\",\"2020-07-08\",\"2020-07-09\",\"2020-07-10\",\"2020-07-13\",\"2020-07-14\",\"2020-07-15\",\"2020-07-16\",\"2020-07-17\",\"2020-07-20\",\"2020-07-21\",\"2020-07-22\",\"2020-07-23\",\"2020-07-24\",\"2020-07-27\",\"2020-07-28\",\"2020-07-29\",\"2020-07-30\",\"2020-08-03\",\"2020-08-04\",\"2020-08-05\",\"2020-08-06\",\"2020-08-07\",\"2020-08-10\",\"2020-08-11\",\"2020-08-12\",\"2020-08-13\",\"2020-08-14\",\"2020-08-17\",\"2020-08-18\",\"2020-08-19\",\"2020-08-21\",\"2020-08-24\",\"2020-08-25\",\"2020-08-26\",\"2020-08-27\",\"2020-08-28\",\"2020-09-01\",\"2020-09-02\",\"2020-09-03\",\"2020-09-04\",\"2020-09-07\",\"2020-09-08\",\"2020-09-09\",\"2020-09-10\",\"2020-09-11\",\"2020-09-14\",\"2020-09-15\",\"2020-09-17\",\"2020-09-18\",\"2020-09-21\",\"2020-09-22\",\"2020-09-23\",\"2020-09-24\",\"2020-09-25\",\"2020-09-28\",\"2020-09-29\",\"2020-09-30\",\"2020-10-01\",\"2020-10-02\",\"2020-10-05\",\"2020-10-06\",\"2020-10-07\",\"2020-10-08\",\"2020-10-09\",\"2020-10-12\",\"2020-10-13\",\"2020-10-14\",\"2020-10-15\",\"2020-10-16\",\"2020-10-19\",\"2020-10-20\",\"2020-10-21\",\"2020-10-22\",\"2020-10-23\",\"2020-10-26\",\"2020-10-27\",\"2020-10-28\",\"2020-10-30\",\"2020-11-02\",\"2020-11-03\",\"2020-11-04\",\"2020-11-05\",\"2020-11-06\",\"2020-11-09\",\"2020-11-10\",\"2020-11-11\",\"2020-11-12\",\"2020-11-13\",\"2020-11-16\",\"2020-11-17\",\"2020-11-18\",\"2020-11-19\",\"2020-11-20\",\"2020-11-23\",\"2020-11-24\",\"2020-11-25\",\"2020-11-26\",\"2020-11-27\",\"2020-11-30\",\"2020-12-01\",\"2020-12-02\",\"2020-12-03\",\"2020-12-04\",\"2020-12-07\",\"2020-12-08\",\"2020-12-09\",\"2020-12-10\",\"2020-12-11\",\"2020-12-14\",\"2020-12-15\",\"2020-12-16\",\"2020-12-17\",\"2020-12-18\",\"2020-12-21\",\"2020-12-22\",\"2020-12-23\",\"2020-12-24\",\"2020-12-28\",\"2020-12-29\",\"2020-12-30\",\"2021-01-04\",\"2021-01-05\",\"2021-01-06\",\"2021-01-07\",\"2021-01-08\",\"2021-01-11\",\"2021-01-12\",\"2021-01-13\",\"2021-01-14\",\"2021-01-15\",\"2021-01-18\",\"2021-01-19\",\"2021-01-20\",\"2021-01-21\",\"2021-01-22\",\"2021-01-25\",\"2021-01-26\",\"2021-01-27\",\"2021-01-29\",\"2021-02-02\",\"2021-02-03\",\"2021-02-04\",\"2021-02-05\",\"2021-02-08\",\"2021-02-09\",\"2021-02-10\",\"2021-02-15\",\"2021-02-16\",\"2021-02-17\",\"2021-02-18\",\"2021-02-19\",\"2021-02-22\",\"2021-02-23\",\"2021-02-24\",\"2021-02-25\",\"2021-02-26\",\"2021-03-01\",\"2021-03-02\",\"2021-03-03\",\"2021-03-04\",\"2021-03-05\",\"2021-03-08\",\"2021-03-09\",\"2021-03-10\",\"2021-03-11\",\"2021-03-12\",\"2021-03-15\",\"2021-03-16\",\"2021-03-17\",\"2021-03-18\",\"2021-03-19\",\"2021-03-22\",\"2021-03-23\",\"2021-03-24\",\"2021-03-25\",\"2021-03-26\",\"2021-03-29\",\"2021-03-30\",\"2021-03-31\",\"2021-04-01\",\"2021-04-05\",\"2021-04-06\",\"2021-04-07\",\"2021-04-08\",\"2021-04-09\",\"2021-04-12\",\"2021-04-13\",\"2021-04-14\",\"2021-04-15\",\"2021-04-16\",\"2021-04-19\",\"2021-04-20\",\"2021-04-21\",\"2021-04-22\",\"2021-04-23\",\"2021-04-26\",\"2021-04-27\",\"2021-04-28\",\"2021-04-30\",\"2021-05-03\",\"2021-05-04\",\"2021-05-05\",\"2021-05-06\",\"2021-05-07\",\"2021-05-10\",\"2021-05-11\",\"2021-05-17\",\"2021-05-18\",\"2021-05-19\",\"2021-05-20\",\"2021-05-21\",\"2021-05-24\",\"2021-05-25\",\"2021-05-27\",\"2021-05-28\",\"2021-05-31\",\"2021-06-01\",\"2021-06-02\",\"2021-06-03\",\"2021-06-04\",\"2021-06-08\",\"2021-06-09\",\"2021-06-10\",\"2021-06-11\",\"2021-06-14\",\"2021-06-15\",\"2021-06-16\",\"2021-06-17\",\"2021-06-18\",\"2021-06-21\",\"2021-06-22\",\"2021-06-23\",\"2021-06-24\",\"2021-06-25\",\"2021-06-28\",\"2021-06-29\",\"2021-06-30\",\"2021-07-01\",\"2021-07-02\",\"2021-07-05\",\"2021-07-06\",\"2021-07-07\",\"2021-07-08\",\"2021-07-09\",\"2021-07-12\",\"2021-07-13\",\"2021-07-14\",\"2021-07-15\",\"2021-07-16\",\"2021-07-19\",\"2021-07-21\",\"2021-07-22\",\"2021-07-23\",\"2021-07-26\",\"2021-07-27\",\"2021-07-28\",\"2021-07-29\",\"2021-07-30\",\"2021-08-02\",\"2021-08-03\",\"2021-08-04\",\"2021-08-05\",\"2021-08-06\",\"2021-08-09\",\"2021-08-11\",\"2021-08-12\",\"2021-08-13\",\"2021-08-16\",\"2021-08-17\",\"2021-08-18\",\"2021-08-19\",\"2021-08-20\",\"2021-08-23\",\"2021-08-24\",\"2021-08-25\",\"2021-08-26\",\"2021-08-27\",\"2021-08-30\",\"2021-09-01\",\"2021-09-02\",\"2021-09-03\",\"2021-09-06\",\"2021-09-07\",\"2021-09-08\",\"2021-09-09\",\"2021-09-10\",\"2021-09-13\",\"2021-09-14\",\"2021-09-15\",\"2021-09-17\",\"2021-09-20\",\"2021-09-21\",\"2021-09-22\",\"2021-09-23\",\"2021-09-24\",\"2021-09-27\",\"2021-09-28\",\"2021-09-29\",\"2021-09-30\",\"2021-10-01\",\"2021-10-04\",\"2021-10-05\",\"2021-10-06\",\"2021-10-07\",\"2021-10-08\",\"2021-10-11\",\"2021-10-12\",\"2021-10-13\",\"2021-10-14\",\"2021-10-15\",\"2021-10-18\",\"2021-10-20\",\"2021-10-21\",\"2021-10-22\",\"2021-10-25\",\"2021-10-26\",\"2021-10-27\",\"2021-10-28\",\"2021-10-29\",\"2021-11-01\",\"2021-11-02\",\"2021-11-03\",\"2021-11-05\",\"2021-11-08\",\"2021-11-09\",\"2021-11-10\",\"2021-11-11\",\"2021-11-12\",\"2021-11-15\",\"2021-11-16\",\"2021-11-17\",\"2021-11-18\",\"2021-11-19\",\"2021-11-22\",\"2021-11-23\",\"2021-11-24\",\"2021-11-25\",\"2021-11-26\",\"2021-11-29\",\"2021-11-30\",\"2021-12-01\",\"2021-12-02\",\"2021-12-06\",\"2021-12-07\",\"2021-12-08\",\"2021-12-09\",\"2021-12-10\",\"2021-12-13\",\"2021-12-14\",\"2021-12-15\",\"2021-12-16\",\"2021-12-17\",\"2021-12-20\",\"2021-12-21\",\"2021-12-22\",\"2021-12-23\",\"2021-12-24\",\"2021-12-27\",\"2021-12-28\",\"2021-12-29\",\"2021-12-30\",\"2022-01-03\",\"2022-01-04\",\"2022-01-05\",\"2022-01-06\",\"2022-01-07\",\"2022-01-10\",\"2022-01-11\",\"2022-01-12\",\"2022-01-13\",\"2022-01-14\",\"2022-01-17\",\"2022-01-19\",\"2022-01-20\",\"2022-01-21\",\"2022-01-24\",\"2022-01-25\",\"2022-01-26\",\"2022-01-27\",\"2022-01-28\",\"2022-02-03\",\"2022-02-04\",\"2022-02-07\",\"2022-02-08\",\"2022-02-09\",\"2022-02-10\",\"2022-02-11\",\"2022-02-14\",\"2022-02-15\",\"2022-02-16\",\"2022-02-17\",\"2022-02-18\",\"2022-02-21\",\"2022-02-22\",\"2022-02-23\",\"2022-02-24\",\"2022-02-25\",\"2022-02-28\",\"2022-03-01\",\"2022-03-02\",\"2022-03-03\",\"2022-03-04\",\"2022-03-07\",\"2022-03-08\",\"2022-03-09\",\"2022-03-10\",\"2022-03-11\",\"2022-03-14\",\"2022-03-15\",\"2022-03-16\",\"2022-03-17\",\"2022-03-18\",\"2022-03-21\",\"2022-03-22\",\"2022-03-23\",\"2022-03-24\",\"2022-03-25\",\"2022-03-28\",\"2022-03-29\",\"2022-03-30\",\"2022-03-31\",\"2022-04-01\",\"2022-04-04\",\"2022-04-05\",\"2022-04-06\",\"2022-04-07\",\"2022-04-08\",\"2022-04-11\",\"2022-04-12\",\"2022-04-13\",\"2022-04-14\",\"2022-04-18\",\"2022-04-20\",\"2022-04-21\",\"2022-04-22\",\"2022-04-25\",\"2022-04-26\",\"2022-04-27\",\"2022-04-28\",\"2022-04-29\",\"2022-05-05\",\"2022-05-06\",\"2022-05-09\",\"2022-05-10\",\"2022-05-11\",\"2022-05-12\",\"2022-05-13\",\"2022-05-17\",\"2022-05-18\",\"2022-05-19\",\"2022-05-20\",\"2022-05-23\",\"2022-05-24\",\"2022-05-25\",\"2022-05-26\",\"2022-05-27\",\"2022-05-30\",\"2022-05-31\",\"2022-06-01\",\"2022-06-02\",\"2022-06-03\",\"2022-06-07\",\"2022-06-08\",\"2022-06-09\",\"2022-06-10\",\"2022-06-13\",\"2022-06-14\",\"2022-06-15\",\"2022-06-16\",\"2022-06-17\",\"2022-06-20\",\"2022-06-21\",\"2022-06-22\",\"2022-06-23\",\"2022-06-24\",\"2022-06-27\",\"2022-06-28\",\"2022-06-29\",\"2022-06-30\",\"2022-07-01\",\"2022-07-04\",\"2022-07-05\",\"2022-07-06\",\"2022-07-07\",\"2022-07-08\",\"2022-07-12\",\"2022-07-13\",\"2022-07-14\",\"2022-07-15\",\"2022-07-18\",\"2022-07-19\",\"2022-07-20\",\"2022-07-21\",\"2022-07-22\",\"2022-07-25\",\"2022-07-26\",\"2022-07-27\",\"2022-07-28\",\"2022-07-29\",\"2022-08-01\",\"2022-08-02\",\"2022-08-03\",\"2022-08-04\",\"2022-08-05\",\"2022-08-08\",\"2022-08-09\",\"2022-08-10\",\"2022-08-11\",\"2022-08-12\",\"2022-08-15\",\"2022-08-16\",\"2022-08-17\",\"2022-08-18\",\"2022-08-19\",\"2022-08-22\",\"2022-08-23\",\"2022-08-24\",\"2022-08-25\",\"2022-08-26\",\"2022-08-29\",\"2022-08-30\",\"2022-09-01\",\"2022-09-02\",\"2022-09-05\",\"2022-09-06\",\"2022-09-07\",\"2022-09-08\",\"2022-09-09\",\"2022-09-12\",\"2022-09-13\",\"2022-09-14\",\"2022-09-15\",\"2022-09-19\",\"2022-09-20\",\"2022-09-21\",\"2022-09-22\",\"2022-09-23\",\"2022-09-26\",\"2022-09-27\",\"2022-09-28\",\"2022-09-29\",\"2022-09-30\",\"2022-10-03\",\"2022-10-04\",\"2022-10-05\",\"2022-10-06\",\"2022-10-07\",\"2022-10-11\",\"2022-10-12\",\"2022-10-13\",\"2022-10-14\",\"2022-10-17\",\"2022-10-18\",\"2022-10-19\",\"2022-10-20\",\"2022-10-21\",\"2022-10-25\",\"2022-10-26\",\"2022-10-27\",\"2022-10-28\",\"2022-10-31\",\"2022-11-01\",\"2022-11-02\",\"2022-11-03\",\"2022-11-04\",\"2022-11-07\",\"2022-11-08\",\"2022-11-09\",\"2022-11-10\",\"2022-11-11\",\"2022-11-14\",\"2022-11-15\",\"2022-11-16\",\"2022-11-17\",\"2022-11-21\",\"2022-11-22\",\"2022-11-23\",\"2022-11-24\",\"2022-11-25\",\"2022-11-29\",\"2022-11-30\",\"2022-12-01\",\"2022-12-02\",\"2022-12-05\",\"2022-12-06\",\"2022-12-07\",\"2022-12-08\",\"2022-12-09\",\"2022-12-12\",\"2022-12-13\",\"2022-12-14\",\"2022-12-15\",\"2022-12-16\",\"2022-12-19\",\"2022-12-20\",\"2022-12-21\",\"2022-12-22\",\"2022-12-23\"],\"y\":[431.279052734375,434.3120422363281,438.33984375,441.7237548828125,441.4794006347656,441.7237548828125,445.57647705078125,448.63885498046875,452.58941650390625,457.7396545410156,460.5782775878906,462.0707092285156,466.841064453125,472.3922119140625,477.738525390625,482.56842041015625,484.6860656738281,487.59332275390625,492.89141845703125,491.4885559082031,485.389404296875,483.9639892578125,483.27166748046875,482.42242431640625,482.37371826171875,483.2418212890625,483.8666687011719,484.4615478515625,485.6812744140625,484.7646179199219,482.54962158203125,480.0128173828125,478.1197204589844,477.67083740234375,473.57373046875,468.5682373046875,467.4949645996094,467.44622802734375,466.4023742675781,465.4560241699219,465.5047607421875,466.8217468261719,466.3536071777344,463.8658447265625,459.7394714355469,455.9056396484375,455.6033020019531,456.00323486328125,456.3250732421875,456.7738952636719,458.4126892089844,458.939453125,457.44683837890625,457.59332275390625,459.0857849121094,465.4948425292969,469.6607971191406,468.1194763183594,466.4023742675781,466.8217468261719,468.5387268066406,468.9388427734375,468.1681213378906,467.9924621582031,468.76318359375,469.7582702636719,471.845947265625,471.5536804199219,471.02655029296875,470.8804016113281,474.30426025390625,477.9439697265625,478.4415588378906,475.6614685058594,475.10455322265625,477.2219543457031,476.03192138671875,474.6853332519531,474.1390380859375,477.2409362792969,483.1633605957031,487.5446472167969,488.56982421875,489.2134094238281,488.199462890625,485.5353698730469,486.822509765625,492.98870849609375,496.3078918457031,495.2639465332031,493.497802734375,491.23394775390625,492.2965393066406,496.27783203125,499.9861145019531,502.9235534667969,508.4167175292969,513.6487426757812,518.27392578125,522.6080932617188,524.7753295898438,528.7269897460938,535.5198364257812,548.7227783203125,565.006103515625,600.4280395507812,633.3189697265625,655.713623046875,676.3243408203125,691.7637939453125,714.8513793945312,737.6822509765625,747.740478515625,747.628173828125,740.590576171875,703.0416870117188,672.8211669921875,644.6719970703125,618.6176147460938,612.9317626953125,606.1199951171875,596.7071533203125,590.4755249023438,588.6771850585938,585.9457397460938,581.2396850585938,578.1241455078125,579.4102172851562,580.1158447265625,576.758544921875,573.9163208007812,573.7882080078125,579.4274291992188,585.3367919921875,586.4124145507812,588.3726806640625,587.1665649414062,588.2447509765625,595.5371704101562,596.4024658203125,591.9692993164062,587.7127685546875,583.5045166015625,580.3406372070312,577.5780029296875,578.1412353515625,580.8073120117188,584.1646118164062,586.4608154296875,579.5838623046875,573.4667358398438,572.4225463867188,565.7391357421875,556.1514282226562,557.2476806640625,561.8389892578125,559.0107421875,557.1334228515625,556.9882202148438,556.587158203125,557.3582153320312,556.9882202148438,553.8557739257812,551.013916015625,551.1592407226562,549.9213256835938,546.7095947265625,546.4539794921875,543.8018798828125,538.4227905273438,534.7618408203125,532.3213500976562,531.1494750976562,535.8413696289062,542.61669921875,546.7755737304688,551.8992919921875,559.1907348632812,563.8789672851562,562.8657836914062,561.292724609375,563.7509155273438,569.3244018554688,573.8849487304688,581.5157470703125,597.3380126953125,616.7576904296875,633.4471435546875,659.9071655273438,681.7865600585938,681.6412353515625,676.7252807617188,675.0062255859375,672.1463623046875,670.620361328125,670.8453369140625,673.5767211914062,679.9226684570312,681.3844604492188,684.7265014648438,691.2332763671875,691.0723266601562,688.7266235351562,687.4573364257812,683.23193359375,682.2200317382812,681.0630493164062,679.906494140625,681.0792236328125,678.5728759765625,674.4117431640625,670.379150390625,662.6190795898438,655.9844360351562,652.771484375,650.8759765625,648.7872924804688,643.06787109375,634.553466796875,630.779052734375,628.2725830078125,620.5612182617188,616.0645751953125,616.61083984375,611.324462890625,606.6031494140625,604.1448974609375,603.7604370117188,605.1093139648438,606.7481079101562,604.8193359375,605.3992309570312,611.9210205078125,617.253662109375,621.7837524414062,628.1292114257812,636.9647827148438,641.735107421875,642.7793579101562,641.5419921875,636.4171752929688,632.1281127929688,629.3651733398438,629.6549072265625,634.008544921875,637.574462890625,639.0202026367188,640.5625610351562,641.735107421875,638.9555053710938,623.91748046875,610.84326171875,604.77099609375,599.9847412109375,594.5388793945312,584.33837890625,577.8994140625,571.4893188476562,564.5842895507812,557.8698120117188,556.0098266601562,558.0807495117188,553.1157836914062,546.934326171875,541.810546875,543.2599487304688,547.947509765625,547.7537231445312,541.9384155273438,533.2506713867188,523.9686889648438,514.01318359375,505.1510009765625,504.0161437988281,502.7595520019531,497.33349609375,491.5372009277344,485.6138916015625,486.4221496582031,488.8429870605469,490.80364990234375,494.2385559082031,501.3216247558594,503.8521423339844,499.0510559082031,493.8496398925781,487.7803955078125,478.3551330566406,477.01654052734375,485.07537841796875,490.2087097167969,495.2037658691406,501.0300598144531,503.5972595214844,507.0509948730469,508.9749450683594,512.3497314453125,516.3134765625,520.5380859375,523.1849365234375,525.4186401367188,527.1671752929688,530.2202758789062,534.0086059570312,531.9027099609375,529.1583862304688,531.3919677734375,530.1361083984375,523.8895874023438,522.0618286132812,520.2289428710938,516.0707397460938,512.3134765625,508.33160400390625,503.8034973144531,499.6459655761719,499.9861145019531,497.7339172363281,493.497802734375,494.7847900390625,494.66900634765625,495.82879638671875,495.6158447265625,498.2383728027344,497.4122314453125,492.2292785644531,491.92608642578125,490.9609069824219,490.4331359863281,491.6530456542969,492.10205078125,491.8289489746094,496.2477722167969,501.1573486328125,500.1435852050781,500.2106018066406,503.19671630859375,503.17840576171875,503.6944274902344,507.50006103515625,510.3406066894531,512.9263305664062,518.8688354492188,520.2774658203125,519.2999267578125,522.4320678710938,532.6478881835938,533.9246826171875,530.5241088867188,534.7003173828125,539.8545532226562,541.8766479492188,545.1543579101562,543.2072143554688,536.3829956054688,533.3653564453125,528.8189086914062,529.54638671875,536.1937255859375,540.8016357421875,542.9207763671875,544.73583984375,547.7713012695312,548.524658203125,546.2117919921875,543.2247314453125,546.793212890625,554.1153564453125,559.2702026367188,567.574951171875,577.1143188476562,583.98828125,586.1393432617188,587.0553588867188,586.5404663085938,581.9140625,578.3973388671875,578.5424194335938,575.9390869140625,568.325439453125,557.7245483398438,549.053466796875,543.079345703125,537.10546875,531.951171875,526.651611328125,519.5856323242188,514.6260375976562,511.86419677734375,511.3360595703125,511.7367248535156,510.9658508300781,512.155517578125,513.5031127929688,515.9613037109375,521.2604370117188,531.3306884765625,544.7710571289062,554.9347534179688,564.86083984375,569.161865234375,566.8972778320312,564.4078369140625,563.8304443359375,570.015869140625,577.467041015625,583.5386352539062,587.2318115234375,586.0425415039062,582.7818603515625,582.8472900390625,586.1078491210938,588.2276000976562,588.4041137695312,591.4569091796875,596.8859252929688,602.1383666992188,609.5278930664062,617.6716918945312,623.5026245117188,627.1649780273438,631.2454833984375,629.6699829101562,639.359619140625,660.58056640625,680.5499267578125,695.507080078125,707.878173828125,713.9030151367188,712.8587646484375,712.45703125,710.7699584960938,707.556640625,709.2116088867188,713.5978393554688,711.0752563476562,709.0669555664062,707.7333374023438,706.801513671875,702.78466796875,693.0000610351562,684.4530029296875,678.5728759765625,671.4071655273438,668.178466796875,668.8530883789062,666.3948974609375,662.7319946289062,660.5632934570312,659.069091796875,658.6676635742188,659.4387817382812,664.8050537109375,668.5800170898438,668.6282348632812,670.7652587890625,673.978271484375,676.966552734375,678.042724609375,675.3594970703125,674.155029296875,673.7371215820312,673.6569213867188,672.9658203125,672.1144409179688,673.978271484375,668.4991455078125,659.5990600585938,654.9884643554688,651.775390625,651.5187377929688,649.4137573242188,644.48193359375,645.4625244140625,649.5748901367188,649.2852783203125,650.3944091796875,657.3348388671875,665.4798583984375,669.6724853515625,669.5277709960938,671.3115234375,673.0623168945312,673.110595703125,674.155029296875,673.1907958984375,674.0264892578125,673.6405029296875,672.6607666015625,674.974365234375,677.1432495117188,679.4566650390625,679.4404296875,680.5010375976562,680.3882446289062,677.1751708984375,673.9137573242188,671.2468872070312,667.069580078125,657.8154907226562,648.3211059570312,638.3927001953125,627.260009765625,621.4456176757812,618.6343383789062,614.3290405273438,608.8030395507812,602.28125,596.94873046875,592.1456909179688,587.4879760742188,582.6851806640625,576.9347534179688,569.5943603515625,562.2227172851562,553.83837890625,544.1544189453125,537.7002563476562,532.8982543945312,527.4224853515625,521.9468383789062,521.1148071289062,517.5460205078125,515.1419067382812,519.2208862304688,522.5596923828125,525.0969848632812,526.171630859375,527.3126831054688,529.8015747070312,530.6517333984375,529.8807983398438,529.7046508789062,528.0172119140625,524.2596435546875,526.5596923828125,531.2949829101562,531.8719482421875,532.7883911132812,531.1802368164062,527.0216674804688,523.2640991210938,520.3744506835938,517.0177001953125,512.264892578125,509.7458801269531,509.7943115234375,506.7412414550781,504.8658142089844,504.173828125,501.9583740234375,498.6019592285156,493.3033447265625,491.7016296386719,492.3265380859375,489.09747314453125,484.1697082519531,481.87615966796875,479.193359375,474.1686706542969,473.3386535644531,474.412109375,475.5534362792969,478.5876770019531,480.4319152832031,482.2952575683594,482.8227233886719,480.7835388183594,478.5686950683594,476.03192138671875,472.7732849121094,469.0172119140625,467.4949645996094,467.7193298339844,468.265625,468.7144775390625,469.8070068359375,471.52410888671875,473.5631103515625,475.50469970703125,476.9974670410156,476.03192138671875,471.4075927734375,465.436767578125,462.47076416015625,461.70013427734375,462.3439636230469,463.7878112792969,463.1440124511719,461.70013427734375,459.33941650390625,456.94940185546875,456.5494384765625,459.5053405761719,462.29522705078125,466.56793212890625,471.6215515136719,475.377685546875,479.0852966308594,479.8370361328125,479.4367370605469,477.7492370605469,473.7197570800781,472.24615478515625,474.8800354003906,479.406982421875,478.6470642089844,472.900390625,468.2951354980469,466.9974060058594,466.4023742675781,464.90972900390625,462.5977783203125,462.3439636230469,462.6951599121094,464.158447265625,464.6366271972656,464.0121765136719,464.5096740722656,464.4609069824219,463.9634704589844,464.2853088378906,464.4609069824219,462.5977783203125,461.7976379394531,464.4316101074219,467.8655090332031,470.5777282714844,474.1580505371094,477.81689453125,479.9831237792969],\"type\":\"scatter\"},{\"mode\":\"lines\",\"name\":\"Ground Truth\",\"x\":[\"2020-05-15\",\"2020-05-18\",\"2020-05-19\",\"2020-05-20\",\"2020-05-21\",\"2020-05-22\",\"2020-05-27\",\"2020-05-28\",\"2020-05-29\",\"2020-06-01\",\"2020-06-02\",\"2020-06-03\",\"2020-06-04\",\"2020-06-05\",\"2020-06-09\",\"2020-06-10\",\"2020-06-11\",\"2020-06-12\",\"2020-06-15\",\"2020-06-16\",\"2020-06-17\",\"2020-06-18\",\"2020-06-19\",\"2020-06-22\",\"2020-06-23\",\"2020-06-24\",\"2020-06-25\",\"2020-06-26\",\"2020-06-29\",\"2020-06-30\",\"2020-07-01\",\"2020-07-02\",\"2020-07-03\",\"2020-07-06\",\"2020-07-07\",\"2020-07-08\",\"2020-07-09\",\"2020-07-10\",\"2020-07-13\",\"2020-07-14\",\"2020-07-15\",\"2020-07-16\",\"2020-07-17\",\"2020-07-20\",\"2020-07-21\",\"2020-07-22\",\"2020-07-23\",\"2020-07-24\",\"2020-07-27\",\"2020-07-28\",\"2020-07-29\",\"2020-07-30\",\"2020-08-03\",\"2020-08-04\",\"2020-08-05\",\"2020-08-06\",\"2020-08-07\",\"2020-08-10\",\"2020-08-11\",\"2020-08-12\",\"2020-08-13\",\"2020-08-14\",\"2020-08-17\",\"2020-08-18\",\"2020-08-19\",\"2020-08-21\",\"2020-08-24\",\"2020-08-25\",\"2020-08-26\",\"2020-08-27\",\"2020-08-28\",\"2020-09-01\",\"2020-09-02\",\"2020-09-03\",\"2020-09-04\",\"2020-09-07\",\"2020-09-08\",\"2020-09-09\",\"2020-09-10\",\"2020-09-11\",\"2020-09-14\",\"2020-09-15\",\"2020-09-17\",\"2020-09-18\",\"2020-09-21\",\"2020-09-22\",\"2020-09-23\",\"2020-09-24\",\"2020-09-25\",\"2020-09-28\",\"2020-09-29\",\"2020-09-30\",\"2020-10-01\",\"2020-10-02\",\"2020-10-05\",\"2020-10-06\",\"2020-10-07\",\"2020-10-08\",\"2020-10-09\",\"2020-10-12\",\"2020-10-13\",\"2020-10-14\",\"2020-10-15\",\"2020-10-16\",\"2020-10-19\",\"2020-10-20\",\"2020-10-21\",\"2020-10-22\",\"2020-10-23\",\"2020-10-26\",\"2020-10-27\",\"2020-10-28\",\"2020-10-30\",\"2020-11-02\",\"2020-11-03\",\"2020-11-04\",\"2020-11-05\",\"2020-11-06\",\"2020-11-09\",\"2020-11-10\",\"2020-11-11\",\"2020-11-12\",\"2020-11-13\",\"2020-11-16\",\"2020-11-17\",\"2020-11-18\",\"2020-11-19\",\"2020-11-20\",\"2020-11-23\",\"2020-11-24\",\"2020-11-25\",\"2020-11-26\",\"2020-11-27\",\"2020-11-30\",\"2020-12-01\",\"2020-12-02\",\"2020-12-03\",\"2020-12-04\",\"2020-12-07\",\"2020-12-08\",\"2020-12-09\",\"2020-12-10\",\"2020-12-11\",\"2020-12-14\",\"2020-12-15\",\"2020-12-16\",\"2020-12-17\",\"2020-12-18\",\"2020-12-21\",\"2020-12-22\",\"2020-12-23\",\"2020-12-24\",\"2020-12-28\",\"2020-12-29\",\"2020-12-30\",\"2021-01-04\",\"2021-01-05\",\"2021-01-06\",\"2021-01-07\",\"2021-01-08\",\"2021-01-11\",\"2021-01-12\",\"2021-01-13\",\"2021-01-14\",\"2021-01-15\",\"2021-01-18\",\"2021-01-19\",\"2021-01-20\",\"2021-01-21\",\"2021-01-22\",\"2021-01-25\",\"2021-01-26\",\"2021-01-27\",\"2021-01-29\",\"2021-02-02\",\"2021-02-03\",\"2021-02-04\",\"2021-02-05\",\"2021-02-08\",\"2021-02-09\",\"2021-02-10\",\"2021-02-15\",\"2021-02-16\",\"2021-02-17\",\"2021-02-18\",\"2021-02-19\",\"2021-02-22\",\"2021-02-23\",\"2021-02-24\",\"2021-02-25\",\"2021-02-26\",\"2021-03-01\",\"2021-03-02\",\"2021-03-03\",\"2021-03-04\",\"2021-03-05\",\"2021-03-08\",\"2021-03-09\",\"2021-03-10\",\"2021-03-11\",\"2021-03-12\",\"2021-03-15\",\"2021-03-16\",\"2021-03-17\",\"2021-03-18\",\"2021-03-19\",\"2021-03-22\",\"2021-03-23\",\"2021-03-24\",\"2021-03-25\",\"2021-03-26\",\"2021-03-29\",\"2021-03-30\",\"2021-03-31\",\"2021-04-01\",\"2021-04-05\",\"2021-04-06\",\"2021-04-07\",\"2021-04-08\",\"2021-04-09\",\"2021-04-12\",\"2021-04-13\",\"2021-04-14\",\"2021-04-15\",\"2021-04-16\",\"2021-04-19\",\"2021-04-20\",\"2021-04-21\",\"2021-04-22\",\"2021-04-23\",\"2021-04-26\",\"2021-04-27\",\"2021-04-28\",\"2021-04-30\",\"2021-05-03\",\"2021-05-04\",\"2021-05-05\",\"2021-05-06\",\"2021-05-07\",\"2021-05-10\",\"2021-05-11\",\"2021-05-17\",\"2021-05-18\",\"2021-05-19\",\"2021-05-20\",\"2021-05-21\",\"2021-05-24\",\"2021-05-25\",\"2021-05-27\",\"2021-05-28\",\"2021-05-31\",\"2021-06-01\",\"2021-06-02\",\"2021-06-03\",\"2021-06-04\",\"2021-06-08\",\"2021-06-09\",\"2021-06-10\",\"2021-06-11\",\"2021-06-14\",\"2021-06-15\",\"2021-06-16\",\"2021-06-17\",\"2021-06-18\",\"2021-06-21\",\"2021-06-22\",\"2021-06-23\",\"2021-06-24\",\"2021-06-25\",\"2021-06-28\",\"2021-06-29\",\"2021-06-30\",\"2021-07-01\",\"2021-07-02\",\"2021-07-05\",\"2021-07-06\",\"2021-07-07\",\"2021-07-08\",\"2021-07-09\",\"2021-07-12\",\"2021-07-13\",\"2021-07-14\",\"2021-07-15\",\"2021-07-16\",\"2021-07-19\",\"2021-07-21\",\"2021-07-22\",\"2021-07-23\",\"2021-07-26\",\"2021-07-27\",\"2021-07-28\",\"2021-07-29\",\"2021-07-30\",\"2021-08-02\",\"2021-08-03\",\"2021-08-04\",\"2021-08-05\",\"2021-08-06\",\"2021-08-09\",\"2021-08-11\",\"2021-08-12\",\"2021-08-13\",\"2021-08-16\",\"2021-08-17\",\"2021-08-18\",\"2021-08-19\",\"2021-08-20\",\"2021-08-23\",\"2021-08-24\",\"2021-08-25\",\"2021-08-26\",\"2021-08-27\",\"2021-08-30\",\"2021-09-01\",\"2021-09-02\",\"2021-09-03\",\"2021-09-06\",\"2021-09-07\",\"2021-09-08\",\"2021-09-09\",\"2021-09-10\",\"2021-09-13\",\"2021-09-14\",\"2021-09-15\",\"2021-09-17\",\"2021-09-20\",\"2021-09-21\",\"2021-09-22\",\"2021-09-23\",\"2021-09-24\",\"2021-09-27\",\"2021-09-28\",\"2021-09-29\",\"2021-09-30\",\"2021-10-01\",\"2021-10-04\",\"2021-10-05\",\"2021-10-06\",\"2021-10-07\",\"2021-10-08\",\"2021-10-11\",\"2021-10-12\",\"2021-10-13\",\"2021-10-14\",\"2021-10-15\",\"2021-10-18\",\"2021-10-20\",\"2021-10-21\",\"2021-10-22\",\"2021-10-25\",\"2021-10-26\",\"2021-10-27\",\"2021-10-28\",\"2021-10-29\",\"2021-11-01\",\"2021-11-02\",\"2021-11-03\",\"2021-11-05\",\"2021-11-08\",\"2021-11-09\",\"2021-11-10\",\"2021-11-11\",\"2021-11-12\",\"2021-11-15\",\"2021-11-16\",\"2021-11-17\",\"2021-11-18\",\"2021-11-19\",\"2021-11-22\",\"2021-11-23\",\"2021-11-24\",\"2021-11-25\",\"2021-11-26\",\"2021-11-29\",\"2021-11-30\",\"2021-12-01\",\"2021-12-02\",\"2021-12-06\",\"2021-12-07\",\"2021-12-08\",\"2021-12-09\",\"2021-12-10\",\"2021-12-13\",\"2021-12-14\",\"2021-12-15\",\"2021-12-16\",\"2021-12-17\",\"2021-12-20\",\"2021-12-21\",\"2021-12-22\",\"2021-12-23\",\"2021-12-24\",\"2021-12-27\",\"2021-12-28\",\"2021-12-29\",\"2021-12-30\",\"2022-01-03\",\"2022-01-04\",\"2022-01-05\",\"2022-01-06\",\"2022-01-07\",\"2022-01-10\",\"2022-01-11\",\"2022-01-12\",\"2022-01-13\",\"2022-01-14\",\"2022-01-17\",\"2022-01-19\",\"2022-01-20\",\"2022-01-21\",\"2022-01-24\",\"2022-01-25\",\"2022-01-26\",\"2022-01-27\",\"2022-01-28\",\"2022-02-03\",\"2022-02-04\",\"2022-02-07\",\"2022-02-08\",\"2022-02-09\",\"2022-02-10\",\"2022-02-11\",\"2022-02-14\",\"2022-02-15\",\"2022-02-16\",\"2022-02-17\",\"2022-02-18\",\"2022-02-21\",\"2022-02-22\",\"2022-02-23\",\"2022-02-24\",\"2022-02-25\",\"2022-02-28\",\"2022-03-01\",\"2022-03-02\",\"2022-03-03\",\"2022-03-04\",\"2022-03-07\",\"2022-03-08\",\"2022-03-09\",\"2022-03-10\",\"2022-03-11\",\"2022-03-14\",\"2022-03-15\",\"2022-03-16\",\"2022-03-17\",\"2022-03-18\",\"2022-03-21\",\"2022-03-22\",\"2022-03-23\",\"2022-03-24\",\"2022-03-25\",\"2022-03-28\",\"2022-03-29\",\"2022-03-30\",\"2022-03-31\",\"2022-04-01\",\"2022-04-04\",\"2022-04-05\",\"2022-04-06\",\"2022-04-07\",\"2022-04-08\",\"2022-04-11\",\"2022-04-12\",\"2022-04-13\",\"2022-04-14\",\"2022-04-18\",\"2022-04-20\",\"2022-04-21\",\"2022-04-22\",\"2022-04-25\",\"2022-04-26\",\"2022-04-27\",\"2022-04-28\",\"2022-04-29\",\"2022-05-05\",\"2022-05-06\",\"2022-05-09\",\"2022-05-10\",\"2022-05-11\",\"2022-05-12\",\"2022-05-13\",\"2022-05-17\",\"2022-05-18\",\"2022-05-19\",\"2022-05-20\",\"2022-05-23\",\"2022-05-24\",\"2022-05-25\",\"2022-05-26\",\"2022-05-27\",\"2022-05-30\",\"2022-05-31\",\"2022-06-01\",\"2022-06-02\",\"2022-06-03\",\"2022-06-07\",\"2022-06-08\",\"2022-06-09\",\"2022-06-10\",\"2022-06-13\",\"2022-06-14\",\"2022-06-15\",\"2022-06-16\",\"2022-06-17\",\"2022-06-20\",\"2022-06-21\",\"2022-06-22\",\"2022-06-23\",\"2022-06-24\",\"2022-06-27\",\"2022-06-28\",\"2022-06-29\",\"2022-06-30\",\"2022-07-01\",\"2022-07-04\",\"2022-07-05\",\"2022-07-06\",\"2022-07-07\",\"2022-07-08\",\"2022-07-12\",\"2022-07-13\",\"2022-07-14\",\"2022-07-15\",\"2022-07-18\",\"2022-07-19\",\"2022-07-20\",\"2022-07-21\",\"2022-07-22\",\"2022-07-25\",\"2022-07-26\",\"2022-07-27\",\"2022-07-28\",\"2022-07-29\",\"2022-08-01\",\"2022-08-02\",\"2022-08-03\",\"2022-08-04\",\"2022-08-05\",\"2022-08-08\",\"2022-08-09\",\"2022-08-10\",\"2022-08-11\",\"2022-08-12\",\"2022-08-15\",\"2022-08-16\",\"2022-08-17\",\"2022-08-18\",\"2022-08-19\",\"2022-08-22\",\"2022-08-23\",\"2022-08-24\",\"2022-08-25\",\"2022-08-26\",\"2022-08-29\",\"2022-08-30\",\"2022-09-01\",\"2022-09-02\",\"2022-09-05\",\"2022-09-06\",\"2022-09-07\",\"2022-09-08\",\"2022-09-09\",\"2022-09-12\",\"2022-09-13\",\"2022-09-14\",\"2022-09-15\",\"2022-09-19\",\"2022-09-20\",\"2022-09-21\",\"2022-09-22\",\"2022-09-23\",\"2022-09-26\",\"2022-09-27\",\"2022-09-28\",\"2022-09-29\",\"2022-09-30\",\"2022-10-03\",\"2022-10-04\",\"2022-10-05\",\"2022-10-06\",\"2022-10-07\",\"2022-10-11\",\"2022-10-12\",\"2022-10-13\",\"2022-10-14\",\"2022-10-17\",\"2022-10-18\",\"2022-10-19\",\"2022-10-20\",\"2022-10-21\",\"2022-10-25\",\"2022-10-26\",\"2022-10-27\",\"2022-10-28\",\"2022-10-31\",\"2022-11-01\",\"2022-11-02\",\"2022-11-03\",\"2022-11-04\",\"2022-11-07\",\"2022-11-08\",\"2022-11-09\",\"2022-11-10\",\"2022-11-11\",\"2022-11-14\",\"2022-11-15\",\"2022-11-16\",\"2022-11-17\",\"2022-11-21\",\"2022-11-22\",\"2022-11-23\",\"2022-11-24\",\"2022-11-25\",\"2022-11-29\",\"2022-11-30\",\"2022-12-01\",\"2022-12-02\",\"2022-12-05\",\"2022-12-06\",\"2022-12-07\",\"2022-12-08\",\"2022-12-09\",\"2022-12-12\",\"2022-12-13\",\"2022-12-14\",\"2022-12-15\",\"2022-12-16\",\"2022-12-19\",\"2022-12-20\",\"2022-12-21\",\"2022-12-22\",\"2022-12-23\"],\"y\":[430.5,433.0,436.5,441.0,443.5,441.0,443.5,448.5,450.0,456.0,460.5,462.0,463.5,471.0,475.0,481.5,485.0,486.0,490.5,496.5,489.0,484.0,485.5,483.0,483.5,483.0,485.0,484.5,486.0,487.0,484.5,482.5,479.5,478.5,478.5,471.0,468.0,468.5,468.0,466.5,466.0,466.5,468.5,466.0,463.5,458.0,455.5,457.0,456.5,457.5,457.5,460.5,459.0,457.5,459.0,460.5,471.0,470.0,468.0,466.5,468.5,470.0,469.5,468.5,469.0,470.0,471.0,474.0,471.0,472.5,471.0,478.5,479.0,479.5,474.0,477.5,478.5,475.5,475.5,474.5,481.0,486.5,490.0,489.0,491.0,487.5,485.5,489.5,497.5,497.0,495.5,493.5,491.0,495.0,499.0,502.5,505.0,513.0,516.0,522.0,525.0,526.5,532.5,540.0,558.0,573.0,625.5,642.5,669.5,685.0,700.5,730.0,747.5,751.5,748.0,738.0,677.5,672.0,625.0,616.0,613.0,603.0,594.0,590.0,590.0,585.0,580.5,578.5,582.5,580.5,576.0,574.5,575.5,585.0,588.0,587.5,591.5,586.0,592.5,600.5,595.5,591.5,587.0,583.0,580.5,577.5,581.0,583.0,587.5,588.0,575.0,574.5,573.0,562.0,553.5,562.5,563.5,557.5,559.0,557.5,558.0,559.0,557.5,553.0,551.5,553.0,549.5,546.5,548.5,542.0,537.5,534.5,532.5,532.0,541.0,546.0,549.5,556.0,564.0,566.0,562.5,562.5,567.0,573.5,576.5,588.0,607.5,627.0,641.5,678.0,688.0,679.5,677.5,676.0,672.0,672.5,672.5,677.5,685.0,681.5,690.5,695.0,691.0,690.0,688.5,682.0,685.5,680.5,682.5,683.0,678.0,674.5,670.0,659.5,656.0,653.0,652.0,649.0,641.0,632.0,632.5,627.5,617.5,617.5,618.5,608.0,608.0,603.5,606.5,606.5,609.5,603.5,609.5,616.5,620.5,625.5,633.0,643.0,643.5,645.0,641.5,635.0,632.5,629.5,632.5,638.0,640.0,641.0,643.0,643.5,638.0,615.0,610.0,603.0,600.0,592.5,580.0,578.5,568.0,564.0,555.0,559.0,559.5,550.0,546.5,540.0,548.0,550.0,548.0,539.0,530.5,520.5,510.5,502.5,507.0,501.0,496.0,489.5,484.0,490.0,489.5,493.5,496.5,507.0,503.0,497.5,492.5,485.5,474.0,481.0,490.0,492.0,499.5,504.0,505.0,510.5,509.5,516.5,518.0,524.5,524.0,528.5,528.0,534.0,536.0,530.5,530.0,534.5,528.5,522.0,524.0,519.0,515.5,511.5,507.5,502.5,499.0,502.5,495.5,493.5,497.5,494.0,499.0,494.5,503.0,494.5,492.0,493.5,490.5,492.0,493.0,493.0,492.5,501.0,503.0,499.5,502.5,505.5,503.0,506.0,510.5,512.0,515.5,523.5,519.5,521.0,525.5,540.5,530.5,532.5,538.5,543.0,543.0,549.0,540.5,535.0,534.0,526.5,534.0,540.0,543.5,544.5,547.0,550.5,549.0,546.0,543.0,552.0,558.0,562.5,574.0,582.0,588.0,587.0,589.5,586.5,580.5,579.0,580.5,574.5,565.5,553.5,547.5,541.5,535.5,531.0,525.0,517.0,514.5,511.5,513.0,512.5,511.5,514.5,514.5,519.0,525.0,538.5,552.0,559.5,571.5,569.5,567.0,564.5,565.5,576.0,581.0,588.0,589.0,586.0,582.5,585.5,589.0,590.0,589.5,595.5,600.5,606.0,615.0,622.5,627.0,630.0,635.0,628.0,651.5,671.0,691.5,702.0,716.0,715.5,714.0,714.5,711.0,708.0,713.5,717.0,709.5,712.0,707.5,709.5,700.5,690.0,683.0,678.0,669.0,670.5,670.5,666.0,663.0,661.5,660.0,660.5,661.5,670.5,670.0,670.5,674.0,677.0,680.0,679.5,675.0,676.5,674.5,676.0,673.5,674.0,677.0,664.5,658.5,655.0,652.0,654.0,648.5,644.0,649.5,652.5,649.5,654.0,663.0,670.5,672.0,670.5,675.0,674.5,675.0,676.5,673.5,677.5,673.5,675.0,678.0,679.5,682.5,680.0,684.0,680.5,677.5,674.0,672.0,666.0,654.0,646.5,634.5,624.0,622.0,618.5,613.5,607.5,600.5,596.5,591.0,587.0,581.5,575.5,567.0,560.5,550.5,541.0,537.0,531.5,526.0,520.5,523.5,514.5,517.5,522.5,524.5,527.5,527.0,529.5,532.0,531.5,530.5,531.0,527.5,523.5,531.0,533.5,532.5,535.0,530.0,526.5,522.5,520.5,516.0,511.0,510.5,511.0,505.0,506.5,504.0,502.0,497.5,491.5,493.5,493.0,487.5,483.0,482.5,478.0,472.5,475.5,475.0,477.5,481.0,481.5,484.5,483.0,480.5,478.5,475.5,472.0,468.0,468.5,468.5,469.5,469.5,471.5,473.0,475.5,477.0,478.5,475.5,469.5,463.5,463.0,462.0,464.0,465.0,463.0,462.0,458.5,457.0,457.5,462.5,463.5,470.5,474.0,478.0,481.5,480.0,480.5,477.0,472.5,473.5,477.5,482.5,477.0,471.0,467.5,468.0,466.5,465.0,462.0,464.0,463.0,466.5,464.5,465.0,465.5,465.0,464.5,465.5,465.0,462.0,463.0,467.0,470.0,472.5,477.0,480.0,481.5,482.0],\"type\":\"scatter\"}],                        {\"title\":{\"text\":\"Google Stock\"},\"xaxis\":{\"title\":{\"text\":\"Date\"}},\"yaxis\":{\"title\":{\"text\":\"Close\"}},\"template\":{\"data\":{\"bar\":[{\"error_x\":{\"color\":\"#2a3f5f\"},\"error_y\":{\"color\":\"#2a3f5f\"},\"marker\":{\"line\":{\"color\":\"#E5ECF6\",\"width\":0.5},\"pattern\":{\"fillmode\":\"overlay\",\"size\":10,\"solidity\":0.2}},\"type\":\"bar\"}],\"barpolar\":[{\"marker\":{\"line\":{\"color\":\"#E5ECF6\",\"width\":0.5},\"pattern\":{\"fillmode\":\"overlay\",\"size\":10,\"solidity\":0.2}},\"type\":\"barpolar\"}],\"carpet\":[{\"aaxis\":{\"endlinecolor\":\"#2a3f5f\",\"gridcolor\":\"white\",\"linecolor\":\"white\",\"minorgridcolor\":\"white\",\"startlinecolor\":\"#2a3f5f\"},\"baxis\":{\"endlinecolor\":\"#2a3f5f\",\"gridcolor\":\"white\",\"linecolor\":\"white\",\"minorgridcolor\":\"white\",\"startlinecolor\":\"#2a3f5f\"},\"type\":\"carpet\"}],\"choropleth\":[{\"colorbar\":{\"outlinewidth\":0,\"ticks\":\"\"},\"type\":\"choropleth\"}],\"contour\":[{\"colorbar\":{\"outlinewidth\":0,\"ticks\":\"\"},\"colorscale\":[[0.0,\"#0d0887\"],[0.1111111111111111,\"#46039f\"],[0.2222222222222222,\"#7201a8\"],[0.3333333333333333,\"#9c179e\"],[0.4444444444444444,\"#bd3786\"],[0.5555555555555556,\"#d8576b\"],[0.6666666666666666,\"#ed7953\"],[0.7777777777777778,\"#fb9f3a\"],[0.8888888888888888,\"#fdca26\"],[1.0,\"#f0f921\"]],\"type\":\"contour\"}],\"contourcarpet\":[{\"colorbar\":{\"outlinewidth\":0,\"ticks\":\"\"},\"type\":\"contourcarpet\"}],\"heatmap\":[{\"colorbar\":{\"outlinewidth\":0,\"ticks\":\"\"},\"colorscale\":[[0.0,\"#0d0887\"],[0.1111111111111111,\"#46039f\"],[0.2222222222222222,\"#7201a8\"],[0.3333333333333333,\"#9c179e\"],[0.4444444444444444,\"#bd3786\"],[0.5555555555555556,\"#d8576b\"],[0.6666666666666666,\"#ed7953\"],[0.7777777777777778,\"#fb9f3a\"],[0.8888888888888888,\"#fdca26\"],[1.0,\"#f0f921\"]],\"type\":\"heatmap\"}],\"heatmapgl\":[{\"colorbar\":{\"outlinewidth\":0,\"ticks\":\"\"},\"colorscale\":[[0.0,\"#0d0887\"],[0.1111111111111111,\"#46039f\"],[0.2222222222222222,\"#7201a8\"],[0.3333333333333333,\"#9c179e\"],[0.4444444444444444,\"#bd3786\"],[0.5555555555555556,\"#d8576b\"],[0.6666666666666666,\"#ed7953\"],[0.7777777777777778,\"#fb9f3a\"],[0.8888888888888888,\"#fdca26\"],[1.0,\"#f0f921\"]],\"type\":\"heatmapgl\"}],\"histogram\":[{\"marker\":{\"pattern\":{\"fillmode\":\"overlay\",\"size\":10,\"solidity\":0.2}},\"type\":\"histogram\"}],\"histogram2d\":[{\"colorbar\":{\"outlinewidth\":0,\"ticks\":\"\"},\"colorscale\":[[0.0,\"#0d0887\"],[0.1111111111111111,\"#46039f\"],[0.2222222222222222,\"#7201a8\"],[0.3333333333333333,\"#9c179e\"],[0.4444444444444444,\"#bd3786\"],[0.5555555555555556,\"#d8576b\"],[0.6666666666666666,\"#ed7953\"],[0.7777777777777778,\"#fb9f3a\"],[0.8888888888888888,\"#fdca26\"],[1.0,\"#f0f921\"]],\"type\":\"histogram2d\"}],\"histogram2dcontour\":[{\"colorbar\":{\"outlinewidth\":0,\"ticks\":\"\"},\"colorscale\":[[0.0,\"#0d0887\"],[0.1111111111111111,\"#46039f\"],[0.2222222222222222,\"#7201a8\"],[0.3333333333333333,\"#9c179e\"],[0.4444444444444444,\"#bd3786\"],[0.5555555555555556,\"#d8576b\"],[0.6666666666666666,\"#ed7953\"],[0.7777777777777778,\"#fb9f3a\"],[0.8888888888888888,\"#fdca26\"],[1.0,\"#f0f921\"]],\"type\":\"histogram2dcontour\"}],\"mesh3d\":[{\"colorbar\":{\"outlinewidth\":0,\"ticks\":\"\"},\"type\":\"mesh3d\"}],\"parcoords\":[{\"line\":{\"colorbar\":{\"outlinewidth\":0,\"ticks\":\"\"}},\"type\":\"parcoords\"}],\"pie\":[{\"automargin\":true,\"type\":\"pie\"}],\"scatter\":[{\"marker\":{\"colorbar\":{\"outlinewidth\":0,\"ticks\":\"\"}},\"type\":\"scatter\"}],\"scatter3d\":[{\"line\":{\"colorbar\":{\"outlinewidth\":0,\"ticks\":\"\"}},\"marker\":{\"colorbar\":{\"outlinewidth\":0,\"ticks\":\"\"}},\"type\":\"scatter3d\"}],\"scattercarpet\":[{\"marker\":{\"colorbar\":{\"outlinewidth\":0,\"ticks\":\"\"}},\"type\":\"scattercarpet\"}],\"scattergeo\":[{\"marker\":{\"colorbar\":{\"outlinewidth\":0,\"ticks\":\"\"}},\"type\":\"scattergeo\"}],\"scattergl\":[{\"marker\":{\"colorbar\":{\"outlinewidth\":0,\"ticks\":\"\"}},\"type\":\"scattergl\"}],\"scattermapbox\":[{\"marker\":{\"colorbar\":{\"outlinewidth\":0,\"ticks\":\"\"}},\"type\":\"scattermapbox\"}],\"scatterpolar\":[{\"marker\":{\"colorbar\":{\"outlinewidth\":0,\"ticks\":\"\"}},\"type\":\"scatterpolar\"}],\"scatterpolargl\":[{\"marker\":{\"colorbar\":{\"outlinewidth\":0,\"ticks\":\"\"}},\"type\":\"scatterpolargl\"}],\"scatterternary\":[{\"marker\":{\"colorbar\":{\"outlinewidth\":0,\"ticks\":\"\"}},\"type\":\"scatterternary\"}],\"surface\":[{\"colorbar\":{\"outlinewidth\":0,\"ticks\":\"\"},\"colorscale\":[[0.0,\"#0d0887\"],[0.1111111111111111,\"#46039f\"],[0.2222222222222222,\"#7201a8\"],[0.3333333333333333,\"#9c179e\"],[0.4444444444444444,\"#bd3786\"],[0.5555555555555556,\"#d8576b\"],[0.6666666666666666,\"#ed7953\"],[0.7777777777777778,\"#fb9f3a\"],[0.8888888888888888,\"#fdca26\"],[1.0,\"#f0f921\"]],\"type\":\"surface\"}],\"table\":[{\"cells\":{\"fill\":{\"color\":\"#EBF0F8\"},\"line\":{\"color\":\"white\"}},\"header\":{\"fill\":{\"color\":\"#C8D4E3\"},\"line\":{\"color\":\"white\"}},\"type\":\"table\"}]},\"layout\":{\"annotationdefaults\":{\"arrowcolor\":\"#2a3f5f\",\"arrowhead\":0,\"arrowwidth\":1},\"autotypenumbers\":\"strict\",\"coloraxis\":{\"colorbar\":{\"outlinewidth\":0,\"ticks\":\"\"}},\"colorscale\":{\"diverging\":[[0,\"#8e0152\"],[0.1,\"#c51b7d\"],[0.2,\"#de77ae\"],[0.3,\"#f1b6da\"],[0.4,\"#fde0ef\"],[0.5,\"#f7f7f7\"],[0.6,\"#e6f5d0\"],[0.7,\"#b8e186\"],[0.8,\"#7fbc41\"],[0.9,\"#4d9221\"],[1,\"#276419\"]],\"sequential\":[[0.0,\"#0d0887\"],[0.1111111111111111,\"#46039f\"],[0.2222222222222222,\"#7201a8\"],[0.3333333333333333,\"#9c179e\"],[0.4444444444444444,\"#bd3786\"],[0.5555555555555556,\"#d8576b\"],[0.6666666666666666,\"#ed7953\"],[0.7777777777777778,\"#fb9f3a\"],[0.8888888888888888,\"#fdca26\"],[1.0,\"#f0f921\"]],\"sequentialminus\":[[0.0,\"#0d0887\"],[0.1111111111111111,\"#46039f\"],[0.2222222222222222,\"#7201a8\"],[0.3333333333333333,\"#9c179e\"],[0.4444444444444444,\"#bd3786\"],[0.5555555555555556,\"#d8576b\"],[0.6666666666666666,\"#ed7953\"],[0.7777777777777778,\"#fb9f3a\"],[0.8888888888888888,\"#fdca26\"],[1.0,\"#f0f921\"]]},\"colorway\":[\"#636efa\",\"#EF553B\",\"#00cc96\",\"#ab63fa\",\"#FFA15A\",\"#19d3f3\",\"#FF6692\",\"#B6E880\",\"#FF97FF\",\"#FECB52\"],\"font\":{\"color\":\"#2a3f5f\"},\"geo\":{\"bgcolor\":\"white\",\"lakecolor\":\"white\",\"landcolor\":\"#E5ECF6\",\"showlakes\":true,\"showland\":true,\"subunitcolor\":\"white\"},\"hoverlabel\":{\"align\":\"left\"},\"hovermode\":\"closest\",\"mapbox\":{\"style\":\"light\"},\"paper_bgcolor\":\"white\",\"plot_bgcolor\":\"#E5ECF6\",\"polar\":{\"angularaxis\":{\"gridcolor\":\"white\",\"linecolor\":\"white\",\"ticks\":\"\"},\"bgcolor\":\"#E5ECF6\",\"radialaxis\":{\"gridcolor\":\"white\",\"linecolor\":\"white\",\"ticks\":\"\"}},\"scene\":{\"xaxis\":{\"backgroundcolor\":\"#E5ECF6\",\"gridcolor\":\"white\",\"gridwidth\":2,\"linecolor\":\"white\",\"showbackground\":true,\"ticks\":\"\",\"zerolinecolor\":\"white\"},\"yaxis\":{\"backgroundcolor\":\"#E5ECF6\",\"gridcolor\":\"white\",\"gridwidth\":2,\"linecolor\":\"white\",\"showbackground\":true,\"ticks\":\"\",\"zerolinecolor\":\"white\"},\"zaxis\":{\"backgroundcolor\":\"#E5ECF6\",\"gridcolor\":\"white\",\"gridwidth\":2,\"linecolor\":\"white\",\"showbackground\":true,\"ticks\":\"\",\"zerolinecolor\":\"white\"}},\"shapedefaults\":{\"line\":{\"color\":\"#2a3f5f\"}},\"ternary\":{\"aaxis\":{\"gridcolor\":\"white\",\"linecolor\":\"white\",\"ticks\":\"\"},\"baxis\":{\"gridcolor\":\"white\",\"linecolor\":\"white\",\"ticks\":\"\"},\"bgcolor\":\"#E5ECF6\",\"caxis\":{\"gridcolor\":\"white\",\"linecolor\":\"white\",\"ticks\":\"\"}},\"title\":{\"x\":0.05},\"xaxis\":{\"automargin\":true,\"gridcolor\":\"white\",\"linecolor\":\"white\",\"ticks\":\"\",\"title\":{\"standoff\":15},\"zerolinecolor\":\"white\",\"zerolinewidth\":2},\"yaxis\":{\"automargin\":true,\"gridcolor\":\"white\",\"linecolor\":\"white\",\"ticks\":\"\",\"title\":{\"standoff\":15},\"zerolinecolor\":\"white\",\"zerolinewidth\":2}}}},                        {\"responsive\": true}                    ).then(function(){\n",
              "                            \n",
              "var gd = document.getElementById('503cdb29-2ea5-4b2d-94d9-83f4be975e7e');\n",
              "var x = new MutationObserver(function (mutations, observer) {{\n",
              "        var display = window.getComputedStyle(gd).display;\n",
              "        if (!display || display === 'none') {{\n",
              "            console.log([gd, 'removed!']);\n",
              "            Plotly.purge(gd);\n",
              "            observer.disconnect();\n",
              "        }}\n",
              "}});\n",
              "\n",
              "// Listen for the removal of the full notebook cells\n",
              "var notebookContainer = gd.closest('#notebook-container');\n",
              "if (notebookContainer) {{\n",
              "    x.observe(notebookContainer, {childList: true});\n",
              "}}\n",
              "\n",
              "// Listen for the clearing of the current output cell\n",
              "var outputEl = gd.closest('.output');\n",
              "if (outputEl) {{\n",
              "    x.observe(outputEl, {childList: true});\n",
              "}}\n",
              "\n",
              "                        })                };                            </script>        </div>\n",
              "</body>\n",
              "</html>"
            ]
          },
          "metadata": {},
          "output_type": "display_data"
        }
      ],
      "source": [
        "close_train = close_train.reshape((-1))\n",
        "close_test = close_test.reshape((-1))\n",
        "prediction = prediction.reshape((-1))\n",
        "\n",
        "\n",
        "trace1 = go.Scatter(\n",
        "    x = date_train,\n",
        "    y = close_train,\n",
        "    mode = 'lines',\n",
        "    name = 'Data'\n",
        ")\n",
        "trace2 = go.Scatter(\n",
        "    x = date_test,\n",
        "    y = prediction,\n",
        "    mode = 'lines',\n",
        "    name = 'Prediction'\n",
        ")\n",
        "trace3 = go.Scatter(\n",
        "    x = date_test,\n",
        "    y = close_test,\n",
        "    mode='lines',\n",
        "    name = 'Ground Truth'\n",
        ")\n",
        "layout = go.Layout(\n",
        "    title = \"Google Stock\",\n",
        "    xaxis = {'title' : \"Date\"},\n",
        "    yaxis = {'title' : \"Close\"}\n",
        ")\n",
        "fig = go.Figure(data=[trace1, trace2, trace3], layout=layout)\n",
        "fig.show()"
      ]
    },
    {
      "cell_type": "code",
      "execution_count": null,
      "metadata": {
        "id": "HulpHeEVZHmh"
      },
      "outputs": [],
      "source": [
        "close_data = close_data.reshape((-1))\n",
        "\n",
        "def predict(num_prediction, model):\n",
        "    prediction_list = close_data[-look_back:]\n",
        "    \n",
        "    for _ in range(num_prediction):\n",
        "        x = prediction_list[-look_back:]\n",
        "        x = x.reshape((1, look_back, 1))\n",
        "        out = model.predict(x)[0][0]\n",
        "        prediction_list = np.append(prediction_list, out)\n",
        "    prediction_list = prediction_list[look_back-1:]\n",
        "        \n",
        "    return prediction_list\n",
        "    \n",
        "def predict_dates(num_prediction):\n",
        "    last_date = df['Date'].values[-1]\n",
        "    prediction_dates = pd.date_range(last_date, periods=num_prediction+1).tolist()\n",
        "    return prediction_dates\n",
        "\n"
      ]
    },
    {
      "cell_type": "code",
      "execution_count": null,
      "metadata": {
        "colab": {
          "base_uri": "https://localhost:8080/"
        },
        "id": "bZBaNWL2ehgO",
        "outputId": "d2dfd25a-c963-49ee-8058-e6a2dd0853b5"
      },
      "outputs": [
        {
          "name": "stdout",
          "output_type": "stream",
          "text": [
            "1/1 [==============================] - 0s 202ms/step\n",
            "1/1 [==============================] - 0s 18ms/step\n",
            "1/1 [==============================] - 0s 19ms/step\n",
            "1/1 [==============================] - 0s 19ms/step\n",
            "1/1 [==============================] - 0s 20ms/step\n",
            "1/1 [==============================] - 0s 20ms/step\n",
            "1/1 [==============================] - 0s 20ms/step\n",
            "1/1 [==============================] - 0s 20ms/step\n",
            "1/1 [==============================] - 0s 21ms/step\n",
            "1/1 [==============================] - 0s 20ms/step\n",
            "1/1 [==============================] - 0s 27ms/step\n",
            "1/1 [==============================] - 0s 21ms/step\n",
            "1/1 [==============================] - 0s 26ms/step\n",
            "1/1 [==============================] - 0s 21ms/step\n",
            "1/1 [==============================] - 0s 21ms/step\n",
            "1/1 [==============================] - 0s 26ms/step\n",
            "1/1 [==============================] - 0s 21ms/step\n",
            "1/1 [==============================] - 0s 21ms/step\n",
            "1/1 [==============================] - 0s 30ms/step\n",
            "1/1 [==============================] - 0s 21ms/step\n",
            "1/1 [==============================] - 0s 20ms/step\n",
            "1/1 [==============================] - 0s 20ms/step\n",
            "1/1 [==============================] - 0s 20ms/step\n",
            "1/1 [==============================] - 0s 20ms/step\n",
            "1/1 [==============================] - 0s 20ms/step\n",
            "1/1 [==============================] - 0s 21ms/step\n",
            "1/1 [==============================] - 0s 20ms/step\n",
            "1/1 [==============================] - 0s 20ms/step\n",
            "1/1 [==============================] - 0s 21ms/step\n",
            "1/1 [==============================] - 0s 20ms/step\n"
          ]
        }
      ],
      "source": [
        "num_prediction = 30\n",
        "forecast = predict(num_prediction, model)\n",
        "forecast_dates = predict_dates(num_prediction)"
      ]
    },
    {
      "cell_type": "markdown",
      "metadata": {
        "id": "Nhnicn7erekW"
      },
      "source": []
    },
    {
      "cell_type": "code",
      "execution_count": null,
      "metadata": {
        "id": "GUKMDGv7bxVQ"
      },
      "outputs": [],
      "source": [
        "forecast_dates"
      ]
    },
    {
      "cell_type": "code",
      "execution_count": null,
      "metadata": {
        "colab": {
          "base_uri": "https://localhost:8080/"
        },
        "id": "odcdhu_odjh0",
        "outputId": "4098cac7-2bc2-4587-bd2b-283dd990ed94"
      },
      "outputs": [
        {
          "data": {
            "text/plain": [
              "array([482.        , 481.65753174, 481.73855591, 481.60644531,\n",
              "       481.58132935, 481.50216675, 481.45007324, 481.38421631,\n",
              "       481.32507324, 481.26242065, 481.20132446, 481.13928223,\n",
              "       481.07757568, 481.01547241, 480.95346069, 480.8911438 ,\n",
              "       480.8288269 , 480.7663269 , 480.70373535, 480.64102173,\n",
              "       480.57821655, 480.51522827, 480.45220947, 480.38897705,\n",
              "       480.32565308, 480.26220703, 480.19863892, 480.13494873,\n",
              "       480.07116699, 480.00723267, 479.94314575])"
            ]
          },
          "execution_count": 188,
          "metadata": {},
          "output_type": "execute_result"
        }
      ],
      "source": [
        "forecast"
      ]
    },
    {
      "cell_type": "code",
      "execution_count": null,
      "metadata": {
        "colab": {
          "base_uri": "https://localhost:8080/"
        },
        "id": "DmXP2NMbco0n",
        "outputId": "527cd4e0-fac2-4cbb-a01b-cf754e175c2a"
      },
      "outputs": [
        {
          "data": {
            "text/plain": [
              "array([482.        , 469.95620728, 470.49307251, 470.88964844,\n",
              "       469.6824646 , 469.59698486, 466.58929443, 465.78533936,\n",
              "       465.02200317, 463.66430664, 462.68045044])"
            ]
          },
          "execution_count": 13,
          "metadata": {},
          "output_type": "execute_result"
        }
      ],
      "source": [
        "forecast"
      ]
    },
    {
      "cell_type": "code",
      "execution_count": null,
      "metadata": {
        "colab": {
          "base_uri": "https://localhost:8080/"
        },
        "id": "PfDGRnPubGxL",
        "outputId": "2099f387-1ddd-40d2-83ee-fe04364b8a35"
      },
      "outputs": [
        {
          "data": {
            "text/plain": [
              "array([823.5       , 824.52862549, 825.55786133, 826.58734131,\n",
              "       827.6171875 , 828.6473999 , 829.67803955, 830.70898438,\n",
              "       831.74029541, 832.77185059, 833.80389404, 834.83624268,\n",
              "       835.86895752, 836.9019165 , 837.9352417 , 838.96905518,\n",
              "       840.00311279, 841.03753662, 842.07226562, 843.10736084,\n",
              "       844.14276123, 845.1786499 , 846.21472168, 847.25109863,\n",
              "       848.28796387, 849.32507324, 850.36248779, 851.40020752,\n",
              "       852.43829346, 853.47668457, 854.51538086])"
            ]
          },
          "execution_count": 74,
          "metadata": {},
          "output_type": "execute_result"
        }
      ],
      "source": [
        "forecast"
      ]
    },
    {
      "cell_type": "code",
      "execution_count": null,
      "metadata": {
        "colab": {
          "base_uri": "https://localhost:8080/"
        },
        "id": "UWoz5X_0ZLP4",
        "outputId": "aa57681f-8818-41f1-e29b-dfc0c1f49332"
      },
      "outputs": [
        {
          "data": {
            "text/plain": [
              "array([823.5       , 804.04290771, 804.51953125, 804.71221924,\n",
              "       804.17724609, 802.7557373 , 800.48614502, 797.50366211,\n",
              "       794.00823975, 792.69683838, 791.03881836, 789.144104  ,\n",
              "       787.03924561, 784.79760742, 782.59552002, 780.5045166 ,\n",
              "       778.5657959 , 776.56848145, 774.52679443, 772.46160889,\n",
              "       770.40124512, 768.36810303, 766.35614014, 764.35357666,\n",
              "       762.34527588, 760.33520508, 758.32940674, 756.33166504,\n",
              "       754.34277344, 752.35974121, 750.38110352])"
            ]
          },
          "execution_count": 72,
          "metadata": {},
          "output_type": "execute_result"
        }
      ],
      "source": [
        "forecast"
      ]
    }
  ],
  "metadata": {
    "colab": {
      "provenance": []
    },
    "kernelspec": {
      "display_name": "Python 3",
      "language": "python",
      "name": "python3"
    },
    "language_info": {
      "codemirror_mode": {
        "name": "ipython",
        "version": 3
      },
      "file_extension": ".py",
      "mimetype": "text/x-python",
      "name": "python",
      "nbconvert_exporter": "python",
      "pygments_lexer": "ipython3",
      "version": "3.10.5"
    },
    "vscode": {
      "interpreter": {
        "hash": "3034794ac08848afa464e7ab6a6e6ee2dd93ce32658083f6736d7840d47604f0"
      }
    }
  },
  "nbformat": 4,
  "nbformat_minor": 0
}
